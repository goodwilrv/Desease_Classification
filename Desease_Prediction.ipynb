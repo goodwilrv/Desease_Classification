{
 "cells": [
  {
   "cell_type": "markdown",
   "metadata": {},
   "source": [
    "Author: Gautam Kumar, Tokyo.\n",
    "\n",
    "This is a demo julyter notebook for EDA and classification of presence of a desease. First step will be to change the working directory, import the common libraries to read both the train and test data.\n"
   ]
  },
  {
   "cell_type": "code",
   "execution_count": 46,
   "metadata": {},
   "outputs": [],
   "source": [
    "\n",
    "import pandas as pd\n",
    "import numpy as np\n",
    "import os\n",
    "import matplotlib.pyplot as plt\n",
    "\n",
    "\n",
    "cur_wd = \"XXXXX\\\\XXXXXX\\\\XXXXXXXXXXX\\\\XXXXXX\"\n",
    "os.chdir(cur_wd)\n"
   ]
  },
  {
   "cell_type": "code",
   "execution_count": 47,
   "metadata": {},
   "outputs": [],
   "source": [
    "train_data_df = pd.read_csv(\"train_data.csv\")\n",
    "final_test_data_df = pd.read_csv(\"test_data.csv\")\n",
    "    "
   ]
  },
  {
   "cell_type": "markdown",
   "metadata": {},
   "source": [
    "Write a method to plot distribution of columns using histograms. I write another utility method to format string into Date."
   ]
  },
  {
   "cell_type": "code",
   "execution_count": 48,
   "metadata": {},
   "outputs": [],
   "source": [
    "\n",
    "def plot_distributions_hist(x_df,col_list):\n",
    "    for col in col_list:\n",
    "        x_df[[col]].hist(bins=10)\n",
    "                         \n",
    "\n",
    "def format_str_To_Date(x_df,col_list,formStr):\n",
    "    for col in col_list:\n",
    "        x_df[col] = pd.to_datetime(x_df[col],format= formStr)\n",
    "        x_df[col] = x_df[col].dt.date\n",
    "        \n",
    "    return x_df\n",
    "\n",
    "def create_date_Diff_Var(x_df):\n",
    "    x_df = format_str_To_Date(x_df,['diagnose_date','treatment_date'],'%Y-%m-%d') \n",
    "    x_df['diag_treat_diff'] = abs(x_df['treatment_date'] - x_df['diagnose_date'])\n",
    "    x_df['diag_treat_diff'] = x_df['diag_treat_diff'].dt.days\n",
    "    return x_df\n",
    "        \n"
   ]
  },
  {
   "cell_type": "markdown",
   "metadata": {},
   "source": [
    "Check the percentage of missing values in the xolumns."
   ]
  },
  {
   "cell_type": "code",
   "execution_count": 49,
   "metadata": {},
   "outputs": [],
   "source": [
    "train_data_df = format_str_To_Date(train_data_df,['diagnose_date','treatment_date'],'%Y-%m-%d')\n",
    "    \n",
    "    \n",
    "train_data_df = create_date_Diff_Var(train_data_df)\n",
    "final_test_data_df = create_date_Diff_Var(final_test_data_df)"
   ]
  },
  {
   "cell_type": "code",
   "execution_count": 50,
   "metadata": {},
   "outputs": [
    {
     "data": {
      "text/plain": [
       "radius_0            0.000000\n",
       "texture_0           0.000000\n",
       "perimeter_0         0.000000\n",
       "radius_1           13.819095\n",
       "texture_1           0.000000\n",
       "perimeter_1        33.668342\n",
       "radius_2            0.000000\n",
       "texture_2           0.000000\n",
       "perimeter_2         0.000000\n",
       "age                 0.000000\n",
       "treatment_date      0.000000\n",
       "diagnose_date       0.000000\n",
       "cancer_type         0.000000\n",
       "diag_treat_diff     0.000000\n",
       "dtype: float64"
      ]
     },
     "execution_count": 50,
     "metadata": {},
     "output_type": "execute_result"
    }
   ],
   "source": [
    "\n",
    "## Check the mission percentage\n",
    "train_data_df.isnull().sum() * 100 / len(train_data_df)"
   ]
  },
  {
   "cell_type": "markdown",
   "metadata": {},
   "source": [
    "Wee see that radius_1 and perimeter_1 are the columns which has many missing values. 14% and 34% of values are missing\n",
    "respectively in these two columns. \n",
    "\n",
    "\n"
   ]
  },
  {
   "cell_type": "markdown",
   "metadata": {},
   "source": [
    "#Tretment of Missing Values.\n",
    "\n",
    "When i think how to treat these missing values in these two columns i see that the test data also has many missing values in these two columns, so it wont be wise to remove these rows with missing values. I also checked manually if, the missingness has any pattern with respect to the final outcome cancer_type age etc. But missing values were not showing any patterns with respect to these columns."
   ]
  },
  {
   "cell_type": "code",
   "execution_count": 51,
   "metadata": {},
   "outputs": [
    {
     "data": {
      "text/plain": [
       "radius_0            0.000000\n",
       "texture_0           0.000000\n",
       "perimeter_0         0.000000\n",
       "radius_1           14.619883\n",
       "texture_1           0.000000\n",
       "perimeter_1        38.596491\n",
       "radius_2            0.000000\n",
       "texture_2           0.000000\n",
       "perimeter_2         0.000000\n",
       "age                 0.000000\n",
       "treatment_date      0.000000\n",
       "diagnose_date       0.000000\n",
       "diag_treat_diff     0.000000\n",
       "dtype: float64"
      ]
     },
     "execution_count": 51,
     "metadata": {},
     "output_type": "execute_result"
    }
   ],
   "source": [
    "percent_missing_test = final_test_data_df.isnull().sum() * 100 / len(final_test_data_df)\n",
    "percent_missing_test"
   ]
  },
  {
   "cell_type": "code",
   "execution_count": null,
   "metadata": {},
   "outputs": [],
   "source": []
  },
  {
   "cell_type": "markdown",
   "metadata": {},
   "source": [
    "We see that test data also has values missing in the same columns and proportion is same as well. Now if we try to remove all the rows having missing values from these two columns as below and check the shape of dataframe, "
   ]
  },
  {
   "cell_type": "markdown",
   "metadata": {},
   "source": [
    "There is a 3rd type of wrong values in the column texture_2, where I see values 'xx'. This values doesnt look normal as this column also is a numeric column. So I will be imputing values as per my strategy as well to avoid information loss."
   ]
  },
  {
   "cell_type": "code",
   "execution_count": 52,
   "metadata": {},
   "outputs": [
    {
     "data": {
      "text/plain": [
       "(209, 14)"
      ]
     },
     "execution_count": 52,
     "metadata": {},
     "output_type": "execute_result"
    }
   ],
   "source": [
    "train_data_noNAN_df = train_data_df[train_data_df.radius_1.notnull()]\n",
    "train_data_noNAN_df = train_data_noNAN_df[train_data_noNAN_df.perimeter_1.notnull()]\n",
    "train_data_noNAN_df.shape"
   ]
  },
  {
   "cell_type": "markdown",
   "metadata": {},
   "source": [
    "we see that we have almost 50 percent of the train data gone, which will cause lot of information loss. So removing the rows will not be a good decision.To remove the column or not is a decision , I will take after checking the vaariable importance.\n",
    "\n",
    "So It looks like keeping these rows with missing values and thinking about how to impute values, is a good strategy. There is another type of missing information where value is not missing completely but, are hidden as a string 'xx' in a column 'texture_2' while this column has most values as float values.\n",
    "\n",
    "some patterns that i see in the missing data (Abnormalities).\n",
    "\n",
    "1.) The rows in which values are missing for columns radius_1 and perimeter_1 are mutually exclusively.\n",
    "\n",
    "2.) But there are rows where one of/both of radius_1 and perimeter_1 values are missing and texture_2 values are hidden as 'xx'\n",
    "\n"
   ]
  },
  {
   "cell_type": "code",
   "execution_count": 54,
   "metadata": {},
   "outputs": [
    {
     "name": "stdout",
     "output_type": "stream",
     "text": [
      "Clustering for number of clusters =========>>>>>> k= 2 Inertia: 43706166.56093112\n",
      "Clustering for number of clusters =========>>>>>> k= 3 Inertia: 21162389.596797995\n",
      "Clustering for number of clusters =========>>>>>> k= 4 Inertia: 12878432.191809397\n",
      "Clustering for number of clusters =========>>>>>> k= 5 Inertia: 9701661.14250959\n",
      "Clustering for number of clusters =========>>>>>> k= 6 Inertia: 7586858.128912535\n",
      "Clustering for number of clusters =========>>>>>> k= 7 Inertia: 6113222.873497404\n",
      "Clustering for number of clusters =========>>>>>> k= 8 Inertia: 5121997.06778514\n",
      "Clustering for number of clusters =========>>>>>> k= 9 Inertia: 4430575.215970188\n",
      "Clustering for number of clusters =========>>>>>> k= 10 Inertia: 4056200.342256034\n",
      "Clustering for number of clusters =========>>>>>> k= 11 Inertia: 3691493.0821351022\n",
      "Clustering for number of clusters =========>>>>>> k= 12 Inertia: 3359244.4356281264\n",
      "Clustering for number of clusters =========>>>>>> k= 13 Inertia: 3082036.7035430754\n",
      "Clustering for number of clusters =========>>>>>> k= 14 Inertia: 2955825.1015820233\n"
     ]
    },
    {
     "data": {
      "image/png": "[encoded data removed]",
      "text/plain": [
       "<matplotlib.figure.Figure at 0x241e923d320>"
      ]
     },
     "metadata": {},
     "output_type": "display_data"
    }
   ],
   "source": [
    "from sklearn.cluster import KMeans\n",
    "def cluster_without_misVal_cols(x_df):\n",
    "    \n",
    "    inertia_list = list()\n",
    "    no_cluster_list = list()\n",
    "    for k in range(2,15):\n",
    "        \n",
    "        kmeans = KMeans(n_clusters=k)\n",
    "        kmeans.fit(x_df)\n",
    "        centroids = kmeans.cluster_centers_\n",
    "        #print(kmeans.labels_)\n",
    "        print(\"Clustering for number of clusters =========>>>>>> k= \" + str(k) + \" Inertia: \" + str(kmeans.inertia_))\n",
    "        inertia_list.append(kmeans.inertia_)\n",
    "        no_cluster_list.append(k)\n",
    "    \n",
    "    clust_cost_df = pd.DataFrame(data = {'No_Of_CLust':no_cluster_list,'Cost':inertia_list})\n",
    "    clust_cost_df.to_csv(\"clust_cost_df.csv\")\n",
    "    clust_cost_df.plot()\n",
    "    return clust_cost_df\n",
    "\n",
    "\n",
    "## Check how many rows has 'xx' as the value in the column 'texture_2'\n",
    "train_data_tr2_xx_df = train_data_df.loc[train_data_df.texture_2 == 'xx',]\n",
    "train_data_tr2_xx_df.shape\n",
    "\n",
    "## Prepare data frame without the columns radius_1 and perimeter_1 which have the missing values.\n",
    "## We are doing the so that we have only numeric columns to run the kmeans on.\n",
    "train_data_allNum_df = train_data_df[['radius_0','texture_0','perimeter_0','texture_1','radius_2','texture_2','perimeter_2','age','diag_treat_diff']]\n",
    "train_data_allNum_df = train_data_allNum_df.loc[train_data_allNum_df.texture_2 != 'xx',]\n",
    "\n",
    "## Run the Kmeans method defined above.\n",
    "clust_cost_df = cluster_without_misVal_cols(train_data_allNum_df)\n",
    "    "
   ]
  },
  {
   "cell_type": "markdown",
   "metadata": {},
   "source": [
    "Missing Value Imputation strategy:\n",
    "\n",
    "Srategy 1\n",
    "----------\n",
    "\n",
    "1.) Find out the mean of column for SIMILAR ROWS compared to the row where we are imputing the value.\n",
    "\n",
    "2.) To find the similar rows, i do a kmeans clustering. Just to check if there are any other grouping of rows, other than cancer_type=0 and 1.\n",
    "\n",
    "3.) I run the kmeans on the dataframe after removing the columns which has missing values and removing the rows where, the column texture_2 has non numeric values 'xx'.\n",
    "\n",
    "4.) Plot the graph between sum of inter cluster distance vs. number of clusters. run the code sections below\n",
    "\n"
   ]
  },
  {
   "cell_type": "markdown",
   "metadata": {},
   "source": [
    "Here we see that main elbow of this plot, is at number of cluster = 2. Which tells us that there are only two cluster of rows in the dataframe. Considering these categories are the cancer_type = 0 or 1 (Since we have knowledge of this dataset, that its a dataset about cancer_type= 0 and 1). I will replace the missing values by mean of the column for the corresponding category of cancer type. (For. Ex. if the row has cancer type = 0, replace the missing value by mean of the column by in this category of cancer type.)\n",
    "\n",
    "\n",
    "Strategy 2.[Did not implement this strategy, due to lack of time, But I can explain how to implement it]\n",
    "---------------\n",
    "1.) Build a Linear regression (Columns with missing values as response (Y), and other columns as explanatory variables (Y), using the rows where, data is not missing in these radius_1 and perimeter_1 columns.) to estimate the missing values for rows in the columns radius_1, perimeter_1.\n",
    "\n",
    "2.) Use the Linear regression, to estimate and impute the missing values of these two columns."
   ]
  },
  {
   "cell_type": "markdown",
   "metadata": {},
   "source": [
    "Write the method to impute the missing and hidden values as per strategy 1 above,"
   ]
  },
  {
   "cell_type": "code",
   "execution_count": 55,
   "metadata": {},
   "outputs": [
    {
     "name": "stderr",
     "output_type": "stream",
     "text": [
      "C:\\Users\\Dell 3450\\Anaconda3\\lib\\site-packages\\pandas\\core\\generic.py:3643: SettingWithCopyWarning: \n",
      "A value is trying to be set on a copy of a slice from a DataFrame.\n",
      "Try using .loc[row_indexer,col_indexer] = value instead\n",
      "\n",
      "See the caveats in the documentation: http://pandas.pydata.org/pandas-docs/stable/indexing.html#indexing-view-versus-copy\n",
      "  self[name] = value\n",
      "C:\\Users\\Dell 3450\\Anaconda3\\lib\\site-packages\\ipykernel_launcher.py:25: SettingWithCopyWarning: \n",
      "A value is trying to be set on a copy of a slice from a DataFrame.\n",
      "Try using .loc[row_indexer,col_indexer] = value instead\n",
      "\n",
      "See the caveats in the documentation: http://pandas.pydata.org/pandas-docs/stable/indexing.html#indexing-view-versus-copy\n",
      "C:\\Users\\Dell 3450\\Anaconda3\\lib\\site-packages\\ipykernel_launcher.py:26: SettingWithCopyWarning: \n",
      "A value is trying to be set on a copy of a slice from a DataFrame.\n",
      "Try using .loc[row_indexer,col_indexer] = value instead\n",
      "\n",
      "See the caveats in the documentation: http://pandas.pydata.org/pandas-docs/stable/indexing.html#indexing-view-versus-copy\n",
      "C:\\Users\\Dell 3450\\Anaconda3\\lib\\site-packages\\ipykernel_launcher.py:27: SettingWithCopyWarning: \n",
      "A value is trying to be set on a copy of a slice from a DataFrame.\n",
      "Try using .loc[row_indexer,col_indexer] = value instead\n",
      "\n",
      "See the caveats in the documentation: http://pandas.pydata.org/pandas-docs/stable/indexing.html#indexing-view-versus-copy\n",
      "C:\\Users\\Dell 3450\\Anaconda3\\lib\\site-packages\\ipykernel_launcher.py:28: SettingWithCopyWarning: \n",
      "A value is trying to be set on a copy of a slice from a DataFrame.\n",
      "Try using .loc[row_indexer,col_indexer] = value instead\n",
      "\n",
      "See the caveats in the documentation: http://pandas.pydata.org/pandas-docs/stable/indexing.html#indexing-view-versus-copy\n",
      "C:\\Users\\Dell 3450\\Anaconda3\\lib\\site-packages\\ipykernel_launcher.py:37: SettingWithCopyWarning: \n",
      "A value is trying to be set on a copy of a slice from a DataFrame.\n",
      "Try using .loc[row_indexer,col_indexer] = value instead\n",
      "\n",
      "See the caveats in the documentation: http://pandas.pydata.org/pandas-docs/stable/indexing.html#indexing-view-versus-copy\n",
      "C:\\Users\\Dell 3450\\Anaconda3\\lib\\site-packages\\ipykernel_launcher.py:38: SettingWithCopyWarning: \n",
      "A value is trying to be set on a copy of a slice from a DataFrame.\n",
      "Try using .loc[row_indexer,col_indexer] = value instead\n",
      "\n",
      "See the caveats in the documentation: http://pandas.pydata.org/pandas-docs/stable/indexing.html#indexing-view-versus-copy\n",
      "C:\\Users\\Dell 3450\\Anaconda3\\lib\\site-packages\\ipykernel_launcher.py:39: SettingWithCopyWarning: \n",
      "A value is trying to be set on a copy of a slice from a DataFrame.\n",
      "Try using .loc[row_indexer,col_indexer] = value instead\n",
      "\n",
      "See the caveats in the documentation: http://pandas.pydata.org/pandas-docs/stable/indexing.html#indexing-view-versus-copy\n",
      "C:\\Users\\Dell 3450\\Anaconda3\\lib\\site-packages\\ipykernel_launcher.py:40: SettingWithCopyWarning: \n",
      "A value is trying to be set on a copy of a slice from a DataFrame.\n",
      "Try using .loc[row_indexer,col_indexer] = value instead\n",
      "\n",
      "See the caveats in the documentation: http://pandas.pydata.org/pandas-docs/stable/indexing.html#indexing-view-versus-copy\n",
      "C:\\Users\\Dell 3450\\Anaconda3\\lib\\site-packages\\ipykernel_launcher.py:48: SettingWithCopyWarning: \n",
      "A value is trying to be set on a copy of a slice from a DataFrame.\n",
      "Try using .loc[row_indexer,col_indexer] = value instead\n",
      "\n",
      "See the caveats in the documentation: http://pandas.pydata.org/pandas-docs/stable/indexing.html#indexing-view-versus-copy\n",
      "C:\\Users\\Dell 3450\\Anaconda3\\lib\\site-packages\\ipykernel_launcher.py:49: SettingWithCopyWarning: \n",
      "A value is trying to be set on a copy of a slice from a DataFrame.\n",
      "Try using .loc[row_indexer,col_indexer] = value instead\n",
      "\n",
      "See the caveats in the documentation: http://pandas.pydata.org/pandas-docs/stable/indexing.html#indexing-view-versus-copy\n",
      "C:\\Users\\Dell 3450\\Anaconda3\\lib\\site-packages\\ipykernel_launcher.py:50: SettingWithCopyWarning: \n",
      "A value is trying to be set on a copy of a slice from a DataFrame.\n",
      "Try using .loc[row_indexer,col_indexer] = value instead\n",
      "\n",
      "See the caveats in the documentation: http://pandas.pydata.org/pandas-docs/stable/indexing.html#indexing-view-versus-copy\n"
     ]
    },
    {
     "name": "stdout",
     "output_type": "stream",
     "text": [
      "Shape of train data df ======>>> (398, 14)\n",
      "Shape of train_imputed_data_df ======>>> (398, 14)\n"
     ]
    },
    {
     "name": "stderr",
     "output_type": "stream",
     "text": [
      "C:\\Users\\Dell 3450\\Anaconda3\\lib\\site-packages\\ipykernel_launcher.py:51: SettingWithCopyWarning: \n",
      "A value is trying to be set on a copy of a slice from a DataFrame.\n",
      "Try using .loc[row_indexer,col_indexer] = value instead\n",
      "\n",
      "See the caveats in the documentation: http://pandas.pydata.org/pandas-docs/stable/indexing.html#indexing-view-versus-copy\n",
      "C:\\Users\\Dell 3450\\Anaconda3\\lib\\site-packages\\ipykernel_launcher.py:52: SettingWithCopyWarning: \n",
      "A value is trying to be set on a copy of a slice from a DataFrame.\n",
      "Try using .loc[row_indexer,col_indexer] = value instead\n",
      "\n",
      "See the caveats in the documentation: http://pandas.pydata.org/pandas-docs/stable/indexing.html#indexing-view-versus-copy\n",
      "C:\\Users\\Dell 3450\\Anaconda3\\lib\\site-packages\\ipykernel_launcher.py:53: SettingWithCopyWarning: \n",
      "A value is trying to be set on a copy of a slice from a DataFrame.\n",
      "Try using .loc[row_indexer,col_indexer] = value instead\n",
      "\n",
      "See the caveats in the documentation: http://pandas.pydata.org/pandas-docs/stable/indexing.html#indexing-view-versus-copy\n"
     ]
    }
   ],
   "source": [
    "def impute_missing_Values_train(x_df):\n",
    "    train_data_rad_1NoNAN_df = x_df[x_df.radius_1.notnull()]\n",
    "    \n",
    "    mean_radius_1_ct_0 = train_data_rad_1NoNAN_df.loc[train_data_rad_1NoNAN_df.cancer_type == 0,].radius_1.mean()\n",
    "    mean_radius_1_ct_1 = train_data_rad_1NoNAN_df.loc[train_data_rad_1NoNAN_df.cancer_type == 1,].radius_1.mean()\n",
    "    \n",
    "    train_data_per1NoNAN_df = x_df[x_df.perimeter_1.notnull()]\n",
    "    \n",
    "    mean_periM_1_ct_0 = train_data_per1NoNAN_df.loc[train_data_per1NoNAN_df.cancer_type == 0,].perimeter_1.mean()\n",
    "    mean_periM_1_ct_1 = train_data_per1NoNAN_df.loc[train_data_per1NoNAN_df.cancer_type == 1,].perimeter_1.mean()\n",
    "\n",
    "    train_data_tx2Noxx_df = x_df.loc[x_df.texture_2 != 'xx',]\n",
    "    \n",
    "    train_data_tx2Noxx_df.texture_2 = train_data_tx2Noxx_df.texture_2.apply(float)\n",
    "#    train_data_tx2Noxx_df.texture_2 = train_data_tx2Noxx_df.texture_2.apply(float)\n",
    "    \n",
    "    mean_text_2_ct_0 = train_data_tx2Noxx_df.loc[train_data_tx2Noxx_df.cancer_type == 0,].texture_2.mean()\n",
    "    mean_text_2_ct_1 = train_data_tx2Noxx_df.loc[train_data_tx2Noxx_df.cancer_type == 1,].texture_2.mean()\n",
    "\n",
    "    \n",
    "    train_rad_1null_df = x_df[x_df.radius_1.isnull()]\n",
    "#    train_rad_1null_df.loc[train_rad_1null_df.cancer_type == 0,'radius_1'] = mean_radius_1_ct_0\n",
    "#    train_rad_1null_df.loc[train_rad_1null_df.cancer_type == 1,'radius_1'] = mean_radius_1_ct_1\n",
    "#    train_rad_1null_df.to_csv(\"train_rad_1null_df.csv\")\n",
    "    train_rad_1null_df['radius_1'] = np.where(train_rad_1null_df.cancer_type == 0, mean_radius_1_ct_0, train_rad_1null_df.radius_1)\n",
    "    train_rad_1null_df['radius_1'] = np.where(train_rad_1null_df.cancer_type == 1, mean_radius_1_ct_1, train_rad_1null_df.radius_1)\n",
    "    train_rad_1null_df['texture_2'] = np.where(train_rad_1null_df.cancer_type == 0, mean_text_2_ct_0, train_rad_1null_df.texture_2)\n",
    "    train_rad_1null_df['texture_2'] = np.where(train_rad_1null_df.cancer_type == 1, mean_text_2_ct_1, train_rad_1null_df.texture_2)\n",
    "   \n",
    "    \n",
    "    train_rad_1null_df.to_csv(\"train_rad_1null_df.csv\")\n",
    "    \n",
    "    train_peri_1null_df = x_df[x_df.perimeter_1.isnull()]\n",
    "#    train_rad_1null_df.loc[train_rad_1null_df.cancer_type == 0,'radius_1'] = mean_radius_1_ct_0\n",
    "#    train_rad_1null_df.loc[train_rad_1null_df.cancer_type == 1,'radius_1'] = mean_radius_1_ct_1\n",
    "#    train_rad_1null_df.to_csv(\"train_rad_1null_df.csv\")\n",
    "    train_peri_1null_df['perimeter_1'] = np.where(train_peri_1null_df.cancer_type == 0, mean_periM_1_ct_0, train_peri_1null_df.perimeter_1)\n",
    "    train_peri_1null_df['perimeter_1'] = np.where(train_peri_1null_df.cancer_type == 1, mean_periM_1_ct_1, train_peri_1null_df.perimeter_1)\n",
    "    train_peri_1null_df['texture_2'] = np.where(train_peri_1null_df.cancer_type == 0, mean_text_2_ct_0, train_peri_1null_df.texture_2)\n",
    "    train_peri_1null_df['texture_2'] = np.where(train_peri_1null_df.cancer_type == 1, mean_text_2_ct_1, train_peri_1null_df.texture_2)\n",
    "   \n",
    "    \n",
    "    \n",
    "    train_peri_1null_df.to_csv(\"train_peri_1null_df.csv\")\n",
    "    \n",
    "    train_data_tx2xx_df = x_df.loc[(x_df.texture_2 == 'xx') & (x_df.perimeter_1.notnull() & (x_df.radius_1.notnull())),]\n",
    "    \n",
    "    train_data_tx2xx_df['texture_2'] = np.where(train_data_tx2xx_df.cancer_type == 0, mean_text_2_ct_0, train_data_tx2xx_df.texture_2)\n",
    "    train_data_tx2xx_df['texture_2'] = np.where(train_data_tx2xx_df.cancer_type == 1, mean_text_2_ct_1, train_data_tx2xx_df.texture_2)\n",
    "    train_data_tx2xx_df['radius_1'] = np.where(train_data_tx2xx_df.cancer_type == 0, mean_radius_1_ct_0, train_data_tx2xx_df.radius_1)\n",
    "    train_data_tx2xx_df['radius_1'] = np.where(train_data_tx2xx_df.cancer_type == 1, mean_radius_1_ct_1, train_data_tx2xx_df.radius_1)\n",
    "    train_data_tx2xx_df['perimeter_1'] = np.where(train_data_tx2xx_df.cancer_type == 0, mean_periM_1_ct_0, train_data_tx2xx_df.perimeter_1)\n",
    "    train_data_tx2xx_df['perimeter_1'] = np.where(train_data_tx2xx_df.cancer_type == 1, mean_periM_1_ct_1, train_data_tx2xx_df.perimeter_1)\n",
    "    \n",
    "    \n",
    "    train_data_tx2xx_df.to_csv(\"train_data_tx2xx_df.csv\")\n",
    "    \n",
    "    replaced_values_df = pd.DataFrame(columns = list(train_data_df))\n",
    "    replaced_values_df = replaced_values_df.append(train_rad_1null_df)\n",
    "    replaced_values_df = replaced_values_df.append(train_peri_1null_df)\n",
    "    replaced_values_df = replaced_values_df.append(train_data_tx2xx_df)\n",
    "    \n",
    "    x_df_rest = train_data_df[train_data_df.radius_1.notnull()]\n",
    "    x_df_rest = x_df_rest[x_df_rest.perimeter_1.notnull()]\n",
    "    x_df_rest = x_df_rest.loc[x_df_rest.texture_2 != 'xx',]\n",
    "    \n",
    "    x_return_df = pd.DataFrame(columns = list(train_data_df))\n",
    "    x_return_df = x_return_df.append(x_df_rest)\n",
    "    x_return_df = x_return_df.append(replaced_values_df)\n",
    "    x_return_df.drop_duplicates(inplace=True)\n",
    "#    x_return_df = x_return_df.append(train_data_tx2xx_df)\n",
    "    return x_return_df\n",
    "\n",
    "\n",
    "train_imputed_data_df = impute_missing_Values_train(train_data_df)\n",
    "print(\"Shape of train data df ======>>> \" + str(train_data_df.shape))\n",
    "\n",
    "print(\"Shape of train_imputed_data_df ======>>> \" + str(train_imputed_data_df.shape))"
   ]
  },
  {
   "cell_type": "markdown",
   "metadata": {},
   "source": [
    "Check the stats of all numeric columns, which means all the explanatory variables"
   ]
  },
  {
   "cell_type": "code",
   "execution_count": 56,
   "metadata": {},
   "outputs": [
    {
     "data": {
      "text/html": [
       "<div>\n",
       "<style scoped>\n",
       "    .dataframe tbody tr th:only-of-type {\n",
       "        vertical-align: middle;\n",
       "    }\n",
       "\n",
       "    .dataframe tbody tr th {\n",
       "        vertical-align: top;\n",
       "    }\n",
       "\n",
       "    .dataframe thead th {\n",
       "        text-align: right;\n",
       "    }\n",
       "</style>\n",
       "<table border=\"1\" class=\"dataframe\">\n",
       "  <thead>\n",
       "    <tr style=\"text-align: right;\">\n",
       "      <th></th>\n",
       "      <th>radius_0</th>\n",
       "      <th>texture_0</th>\n",
       "      <th>perimeter_0</th>\n",
       "      <th>radius_1</th>\n",
       "      <th>texture_1</th>\n",
       "      <th>perimeter_1</th>\n",
       "      <th>radius_2</th>\n",
       "      <th>perimeter_2</th>\n",
       "    </tr>\n",
       "  </thead>\n",
       "  <tbody>\n",
       "    <tr>\n",
       "      <th>count</th>\n",
       "      <td>398.000000</td>\n",
       "      <td>398.000000</td>\n",
       "      <td>398.000000</td>\n",
       "      <td>398.000000</td>\n",
       "      <td>398.000000</td>\n",
       "      <td>398.000000</td>\n",
       "      <td>398.000000</td>\n",
       "      <td>398.000000</td>\n",
       "    </tr>\n",
       "    <tr>\n",
       "      <th>mean</th>\n",
       "      <td>21.303711</td>\n",
       "      <td>18.957554</td>\n",
       "      <td>92.128890</td>\n",
       "      <td>14.102851</td>\n",
       "      <td>30.417222</td>\n",
       "      <td>94.095169</td>\n",
       "      <td>14.134922</td>\n",
       "      <td>127.222422</td>\n",
       "    </tr>\n",
       "    <tr>\n",
       "      <th>std</th>\n",
       "      <td>49.987646</td>\n",
       "      <td>6.243499</td>\n",
       "      <td>25.159787</td>\n",
       "      <td>3.562219</td>\n",
       "      <td>15.027855</td>\n",
       "      <td>24.534843</td>\n",
       "      <td>3.748146</td>\n",
       "      <td>49.097558</td>\n",
       "    </tr>\n",
       "    <tr>\n",
       "      <th>min</th>\n",
       "      <td>6.401956</td>\n",
       "      <td>-17.243202</td>\n",
       "      <td>45.612505</td>\n",
       "      <td>5.752395</td>\n",
       "      <td>2.395868</td>\n",
       "      <td>43.444930</td>\n",
       "      <td>7.079847</td>\n",
       "      <td>44.918942</td>\n",
       "    </tr>\n",
       "    <tr>\n",
       "      <th>25%</th>\n",
       "      <td>11.693885</td>\n",
       "      <td>14.581364</td>\n",
       "      <td>74.975361</td>\n",
       "      <td>11.921958</td>\n",
       "      <td>19.898062</td>\n",
       "      <td>79.523415</td>\n",
       "      <td>11.573592</td>\n",
       "      <td>84.123724</td>\n",
       "    </tr>\n",
       "    <tr>\n",
       "      <th>50%</th>\n",
       "      <td>13.468170</td>\n",
       "      <td>18.238742</td>\n",
       "      <td>87.376764</td>\n",
       "      <td>13.124615</td>\n",
       "      <td>30.897762</td>\n",
       "      <td>85.312122</td>\n",
       "      <td>13.333610</td>\n",
       "      <td>129.992697</td>\n",
       "    </tr>\n",
       "    <tr>\n",
       "      <th>75%</th>\n",
       "      <td>16.323024</td>\n",
       "      <td>22.494291</td>\n",
       "      <td>104.876420</td>\n",
       "      <td>16.551134</td>\n",
       "      <td>42.555657</td>\n",
       "      <td>115.820970</td>\n",
       "      <td>16.093900</td>\n",
       "      <td>169.538170</td>\n",
       "    </tr>\n",
       "    <tr>\n",
       "      <th>max</th>\n",
       "      <td>561.311068</td>\n",
       "      <td>40.064462</td>\n",
       "      <td>193.755763</td>\n",
       "      <td>29.645166</td>\n",
       "      <td>55.820612</td>\n",
       "      <td>227.162938</td>\n",
       "      <td>28.563252</td>\n",
       "      <td>214.192377</td>\n",
       "    </tr>\n",
       "  </tbody>\n",
       "</table>\n",
       "</div>"
      ],
      "text/plain": [
       "         radius_0   texture_0  perimeter_0    radius_1   texture_1  \\\n",
       "count  398.000000  398.000000   398.000000  398.000000  398.000000   \n",
       "mean    21.303711   18.957554    92.128890   14.102851   30.417222   \n",
       "std     49.987646    6.243499    25.159787    3.562219   15.027855   \n",
       "min      6.401956  -17.243202    45.612505    5.752395    2.395868   \n",
       "25%     11.693885   14.581364    74.975361   11.921958   19.898062   \n",
       "50%     13.468170   18.238742    87.376764   13.124615   30.897762   \n",
       "75%     16.323024   22.494291   104.876420   16.551134   42.555657   \n",
       "max    561.311068   40.064462   193.755763   29.645166   55.820612   \n",
       "\n",
       "       perimeter_1    radius_2  perimeter_2  \n",
       "count   398.000000  398.000000   398.000000  \n",
       "mean     94.095169   14.134922   127.222422  \n",
       "std      24.534843    3.748146    49.097558  \n",
       "min      43.444930    7.079847    44.918942  \n",
       "25%      79.523415   11.573592    84.123724  \n",
       "50%      85.312122   13.333610   129.992697  \n",
       "75%     115.820970   16.093900   169.538170  \n",
       "max     227.162938   28.563252   214.192377  "
      ]
     },
     "execution_count": 56,
     "metadata": {},
     "output_type": "execute_result"
    }
   ],
   "source": [
    "\n",
    "numeric_cols = ['radius_0','texture_0','perimeter_0','radius_1','texture_1','perimeter_1','radius_2','texture_2','perimeter_2','age','diag_treat_diff']\n",
    "train_imputed_data_df[numeric_cols].describe()"
   ]
  },
  {
   "cell_type": "markdown",
   "metadata": {},
   "source": [
    "Here, Only one a column has minimum value which is less than 0 in texture_0 column. I checked the test data and it doesnt have any negative value. So it will be good to remove that one row which has a negative value for texture_0 column."
   ]
  },
  {
   "cell_type": "markdown",
   "metadata": {},
   "source": [
    "Now Create a numerical variable from diagnosis date and treatment date difference and then remove the diagnosis and treatment dates.\n"
   ]
  },
  {
   "cell_type": "code",
   "execution_count": null,
   "metadata": {},
   "outputs": [],
   "source": []
  },
  {
   "cell_type": "markdown",
   "metadata": {},
   "source": [
    "Now Plot the histogram to see the distribution of explanatory variables"
   ]
  },
  {
   "cell_type": "code",
   "execution_count": 57,
   "metadata": {},
   "outputs": [
    {
     "data": {
      "image/png": "[encoded data removed]",
      "text/plain": [
       "<matplotlib.figure.Figure at 0x241ea970828>"
      ]
     },
     "metadata": {},
     "output_type": "display_data"
    },
    {
     "data": {
      "image/png": "[encoded data removed]",
      "text/plain": [
       "<matplotlib.figure.Figure at 0x241ea9c7898>"
      ]
     },
     "metadata": {},
     "output_type": "display_data"
    },
    {
     "data": {
      "image/png": "[encoded data removed]",
      "text/plain": [
       "<matplotlib.figure.Figure at 0x241e980e3c8>"
      ]
     },
     "metadata": {},
     "output_type": "display_data"
    },
    {
     "data": {
      "image/png": "[encoded data removed]",
      "text/plain": [
       "<matplotlib.figure.Figure at 0x241ea993e48>"
      ]
     },
     "metadata": {},
     "output_type": "display_data"
    },
    {
     "data": {
      "image/png": "[encoded data removed]",
      "text/plain": [
       "<matplotlib.figure.Figure at 0x241e8f72f98>"
      ]
     },
     "metadata": {},
     "output_type": "display_data"
    },
    {
     "data": {
      "image/png": "[encoded data removed]",
      "text/plain": [
       "<matplotlib.figure.Figure at 0x241ea949c50>"
      ]
     },
     "metadata": {},
     "output_type": "display_data"
    },
    {
     "data": {
      "image/png": "[encoded data removed]",
      "text/plain": [
       "<matplotlib.figure.Figure at 0x241e98dce80>"
      ]
     },
     "metadata": {},
     "output_type": "display_data"
    },
    {
     "data": {
      "image/png": "[encoded data removed]",
      "text/plain": [
       "<matplotlib.figure.Figure at 0x241e989ec18>"
      ]
     },
     "metadata": {},
     "output_type": "display_data"
    },
    {
     "data": {
      "image/png": "[encoded data removed]",
      "text/plain": [
       "<matplotlib.figure.Figure at 0x241e9178e10>"
      ]
     },
     "metadata": {},
     "output_type": "display_data"
    },
    {
     "data": {
      "image/png": "[encoded data removed]",
      "text/plain": [
       "<matplotlib.figure.Figure at 0x241e91bd0f0>"
      ]
     },
     "metadata": {},
     "output_type": "display_data"
    },
    {
     "data": {
      "image/png": "[encoded data removed]",
      "text/plain": [
       "<matplotlib.figure.Figure at 0x241e90aec88>"
      ]
     },
     "metadata": {},
     "output_type": "display_data"
    }
   ],
   "source": [
    "\n",
    "train_imputed_data_df[numeric_cols] = train_imputed_data_df[numeric_cols].astype(np.float)\n",
    "plot_distributions_hist(train_imputed_data_df,numeric_cols)    \n"
   ]
  },
  {
   "cell_type": "code",
   "execution_count": 58,
   "metadata": {},
   "outputs": [
    {
     "name": "stdout",
     "output_type": "stream",
     "text": [
      "Write a method to plot the box plots of the variables\n",
      "PLot the box plots of numerical variables\n"
     ]
    },
    {
     "data": {
      "image/png": "[encoded data removed]",
      "text/plain": [
       "<matplotlib.figure.Figure at 0x241e98692e8>"
      ]
     },
     "metadata": {},
     "output_type": "display_data"
    }
   ],
   "source": [
    "print(\"Write a method to plot the box plots of the variables\")\n",
    "def plotBoxPlotsByCancerType(x_df,cType):\n",
    "    if(cType == 'cancer_type'):\n",
    "         x_df[['radius_0','texture_0','perimeter_0','cancer_type']].boxplot(by='cancer_type')\n",
    "         x_df[['radius_1','texture_1','perimeter_1','cancer_type']].boxplot(by='cancer_type')\n",
    "         x_df[['radius_2','texture_2','perimeter_2','cancer_type']].boxplot(by='cancer_type')\n",
    "         x_df[['age','cancer_type']].boxplot(by='cancer_type')\n",
    "         x_df[['diag_treat_diff','cancer_type']].boxplot(by='cancer_type')\n",
    "    elif(cType=='explanatory_vars'):\n",
    "         temp_df = x_df.drop(['cancer_type','diagnose_date','treatment_date'],axis=1)\n",
    "         temp_df.boxplot()\n",
    "         plt.xticks(rotation=90)\n",
    "\n",
    "print(\"PLot the box plots of numerical variables\")\n",
    "train_imputed_data_df['diag_treat_diff'] = train_imputed_data_df['diag_treat_diff'].apply(float)\n",
    "train_imputed_data_df['age'] = train_imputed_data_df['age'].apply(float)\n",
    "plotBoxPlotsByCancerType(train_data_df,'explanatory_vars')\n",
    "\n",
    "\n",
    "\n"
   ]
  },
  {
   "cell_type": "markdown",
   "metadata": {},
   "source": [
    "Note: The box plots shows that there are outliers in the columns radius_0, texture_0, permieter_0,perimeter_1,radius_2 and in\n",
    "      diag_treat_diff"
   ]
  },
  {
   "cell_type": "code",
   "execution_count": 59,
   "metadata": {},
   "outputs": [
    {
     "name": "stdout",
     "output_type": "stream",
     "text": [
      "PLot the box plots of explanatory variables by the cancer type\n"
     ]
    },
    {
     "data": {
      "image/png": "[encoded data removed]",
      "text/plain": [
       "<matplotlib.figure.Figure at 0x241ea9ed400>"
      ]
     },
     "metadata": {},
     "output_type": "display_data"
    },
    {
     "data": {
      "image/png": "[encoded data removed]",
      "text/plain": [
       "<matplotlib.figure.Figure at 0x241ea9717b8>"
      ]
     },
     "metadata": {},
     "output_type": "display_data"
    },
    {
     "data": {
      "image/png": "[encoded data removed]",
      "text/plain": [
       "<matplotlib.figure.Figure at 0x241ea96e5f8>"
      ]
     },
     "metadata": {},
     "output_type": "display_data"
    },
    {
     "data": {
      "image/png": "[encoded data removed]",
      "text/plain": [
       "<matplotlib.figure.Figure at 0x241e8d874e0>"
      ]
     },
     "metadata": {},
     "output_type": "display_data"
    },
    {
     "data": {
      "image/png": "[encoded data removed]",
      "text/plain": [
       "<matplotlib.figure.Figure at 0x241e8f3ce10>"
      ]
     },
     "metadata": {},
     "output_type": "display_data"
    }
   ],
   "source": [
    "print(\"PLot the box plots of explanatory variables by the cancer type\")\n",
    "plotBoxPlotsByCancerType(train_imputed_data_df,'cancer_type')"
   ]
  },
  {
   "cell_type": "markdown",
   "metadata": {},
   "source": [
    "Above boxplots, Shows that there are difference in distributions of perimeter_0, perimeter_1, radius_0,radius_1,radius_2,texture_1 etc with respect to final response variable cancer_type. This list gives an idea of important features. Some variables like 'Age'and 'diag_treat_diff' is showing very less difference in the ditribution based on cancer_type."
   ]
  },
  {
   "cell_type": "code",
   "execution_count": 62,
   "metadata": {},
   "outputs": [
    {
     "data": {
      "text/html": [
       "<style  type=\"text/css\" >\n",
       "    #T_2711d0b4_af9d_11e9_b0af_44a842ecf333row0_col0 {\n",
       "            background-color:  #b40426;\n",
       "        }    #T_2711d0b4_af9d_11e9_b0af_44a842ecf333row0_col1 {\n",
       "            background-color:  #516ddb;\n",
       "        }    #T_2711d0b4_af9d_11e9_b0af_44a842ecf333row0_col2 {\n",
       "            background-color:  #7da0f9;\n",
       "        }    #T_2711d0b4_af9d_11e9_b0af_44a842ecf333row0_col3 {\n",
       "            background-color:  #7a9df8;\n",
       "        }    #T_2711d0b4_af9d_11e9_b0af_44a842ecf333row0_col4 {\n",
       "            background-color:  #6b8df0;\n",
       "        }    #T_2711d0b4_af9d_11e9_b0af_44a842ecf333row0_col5 {\n",
       "            background-color:  #80a3fa;\n",
       "        }    #T_2711d0b4_af9d_11e9_b0af_44a842ecf333row0_col6 {\n",
       "            background-color:  #88abfd;\n",
       "        }    #T_2711d0b4_af9d_11e9_b0af_44a842ecf333row0_col7 {\n",
       "            background-color:  #5f7fe8;\n",
       "        }    #T_2711d0b4_af9d_11e9_b0af_44a842ecf333row0_col8 {\n",
       "            background-color:  #3b4cc0;\n",
       "        }    #T_2711d0b4_af9d_11e9_b0af_44a842ecf333row0_col9 {\n",
       "            background-color:  #6788ee;\n",
       "        }    #T_2711d0b4_af9d_11e9_b0af_44a842ecf333row0_col10 {\n",
       "            background-color:  #6485ec;\n",
       "        }    #T_2711d0b4_af9d_11e9_b0af_44a842ecf333row0_col11 {\n",
       "            background-color:  #6282ea;\n",
       "        }    #T_2711d0b4_af9d_11e9_b0af_44a842ecf333row0_col12 {\n",
       "            background-color:  #688aef;\n",
       "        }    #T_2711d0b4_af9d_11e9_b0af_44a842ecf333row0_col13 {\n",
       "            background-color:  #3b4cc0;\n",
       "        }    #T_2711d0b4_af9d_11e9_b0af_44a842ecf333row0_col14 {\n",
       "            background-color:  #6b8df0;\n",
       "        }    #T_2711d0b4_af9d_11e9_b0af_44a842ecf333row1_col0 {\n",
       "            background-color:  #7093f3;\n",
       "        }    #T_2711d0b4_af9d_11e9_b0af_44a842ecf333row1_col1 {\n",
       "            background-color:  #b40426;\n",
       "        }    #T_2711d0b4_af9d_11e9_b0af_44a842ecf333row1_col2 {\n",
       "            background-color:  #8db0fe;\n",
       "        }    #T_2711d0b4_af9d_11e9_b0af_44a842ecf333row1_col3 {\n",
       "            background-color:  #8fb1fe;\n",
       "        }    #T_2711d0b4_af9d_11e9_b0af_44a842ecf333row1_col4 {\n",
       "            background-color:  #6282ea;\n",
       "        }    #T_2711d0b4_af9d_11e9_b0af_44a842ecf333row1_col5 {\n",
       "            background-color:  #96b7ff;\n",
       "        }    #T_2711d0b4_af9d_11e9_b0af_44a842ecf333row1_col6 {\n",
       "            background-color:  #90b2fe;\n",
       "        }    #T_2711d0b4_af9d_11e9_b0af_44a842ecf333row1_col7 {\n",
       "            background-color:  #cbd8ee;\n",
       "        }    #T_2711d0b4_af9d_11e9_b0af_44a842ecf333row1_col8 {\n",
       "            background-color:  #5b7ae5;\n",
       "        }    #T_2711d0b4_af9d_11e9_b0af_44a842ecf333row1_col9 {\n",
       "            background-color:  #5e7de7;\n",
       "        }    #T_2711d0b4_af9d_11e9_b0af_44a842ecf333row1_col10 {\n",
       "            background-color:  #5d7ce6;\n",
       "        }    #T_2711d0b4_af9d_11e9_b0af_44a842ecf333row1_col11 {\n",
       "            background-color:  #5a78e4;\n",
       "        }    #T_2711d0b4_af9d_11e9_b0af_44a842ecf333row1_col12 {\n",
       "            background-color:  #5f7fe8;\n",
       "        }    #T_2711d0b4_af9d_11e9_b0af_44a842ecf333row1_col13 {\n",
       "            background-color:  #5a78e4;\n",
       "        }    #T_2711d0b4_af9d_11e9_b0af_44a842ecf333row1_col14 {\n",
       "            background-color:  #5a78e4;\n",
       "        }    #T_2711d0b4_af9d_11e9_b0af_44a842ecf333row2_col0 {\n",
       "            background-color:  #7da0f9;\n",
       "        }    #T_2711d0b4_af9d_11e9_b0af_44a842ecf333row2_col1 {\n",
       "            background-color:  #7093f3;\n",
       "        }    #T_2711d0b4_af9d_11e9_b0af_44a842ecf333row2_col2 {\n",
       "            background-color:  #b40426;\n",
       "        }    #T_2711d0b4_af9d_11e9_b0af_44a842ecf333row2_col3 {\n",
       "            background-color:  #ea7b60;\n",
       "        }    #T_2711d0b4_af9d_11e9_b0af_44a842ecf333row2_col4 {\n",
       "            background-color:  #81a4fb;\n",
       "        }    #T_2711d0b4_af9d_11e9_b0af_44a842ecf333row2_col5 {\n",
       "            background-color:  #f08a6c;\n",
       "        }    #T_2711d0b4_af9d_11e9_b0af_44a842ecf333row2_col6 {\n",
       "            background-color:  #e67259;\n",
       "        }    #T_2711d0b4_af9d_11e9_b0af_44a842ecf333row2_col7 {\n",
       "            background-color:  #aac7fd;\n",
       "        }    #T_2711d0b4_af9d_11e9_b0af_44a842ecf333row2_col8 {\n",
       "            background-color:  #4b64d5;\n",
       "        }    #T_2711d0b4_af9d_11e9_b0af_44a842ecf333row2_col9 {\n",
       "            background-color:  #4961d2;\n",
       "        }    #T_2711d0b4_af9d_11e9_b0af_44a842ecf333row2_col10 {\n",
       "            background-color:  #3b4cc0;\n",
       "        }    #T_2711d0b4_af9d_11e9_b0af_44a842ecf333row2_col11 {\n",
       "            background-color:  #3b4cc0;\n",
       "        }    #T_2711d0b4_af9d_11e9_b0af_44a842ecf333row2_col12 {\n",
       "            background-color:  #485fd1;\n",
       "        }    #T_2711d0b4_af9d_11e9_b0af_44a842ecf333row2_col13 {\n",
       "            background-color:  #4b64d5;\n",
       "        }    #T_2711d0b4_af9d_11e9_b0af_44a842ecf333row2_col14 {\n",
       "            background-color:  #7da0f9;\n",
       "        }    #T_2711d0b4_af9d_11e9_b0af_44a842ecf333row3_col0 {\n",
       "            background-color:  #80a3fa;\n",
       "        }    #T_2711d0b4_af9d_11e9_b0af_44a842ecf333row3_col1 {\n",
       "            background-color:  #779af7;\n",
       "        }    #T_2711d0b4_af9d_11e9_b0af_44a842ecf333row3_col2 {\n",
       "            background-color:  #ea7b60;\n",
       "        }    #T_2711d0b4_af9d_11e9_b0af_44a842ecf333row3_col3 {\n",
       "            background-color:  #b40426;\n",
       "        }    #T_2711d0b4_af9d_11e9_b0af_44a842ecf333row3_col4 {\n",
       "            background-color:  #84a7fc;\n",
       "        }    #T_2711d0b4_af9d_11e9_b0af_44a842ecf333row3_col5 {\n",
       "            background-color:  #f39577;\n",
       "        }    #T_2711d0b4_af9d_11e9_b0af_44a842ecf333row3_col6 {\n",
       "            background-color:  #e36b54;\n",
       "        }    #T_2711d0b4_af9d_11e9_b0af_44a842ecf333row3_col7 {\n",
       "            background-color:  #a5c3fe;\n",
       "        }    #T_2711d0b4_af9d_11e9_b0af_44a842ecf333row3_col8 {\n",
       "            background-color:  #5875e1;\n",
       "        }    #T_2711d0b4_af9d_11e9_b0af_44a842ecf333row3_col9 {\n",
       "            background-color:  #4a63d3;\n",
       "        }    #T_2711d0b4_af9d_11e9_b0af_44a842ecf333row3_col10 {\n",
       "            background-color:  #3f53c6;\n",
       "        }    #T_2711d0b4_af9d_11e9_b0af_44a842ecf333row3_col11 {\n",
       "            background-color:  #3f53c6;\n",
       "        }    #T_2711d0b4_af9d_11e9_b0af_44a842ecf333row3_col12 {\n",
       "            background-color:  #4a63d3;\n",
       "        }    #T_2711d0b4_af9d_11e9_b0af_44a842ecf333row3_col13 {\n",
       "            background-color:  #5572df;\n",
       "        }    #T_2711d0b4_af9d_11e9_b0af_44a842ecf333row3_col14 {\n",
       "            background-color:  #7a9df8;\n",
       "        }    #T_2711d0b4_af9d_11e9_b0af_44a842ecf333row4_col0 {\n",
       "            background-color:  #6e90f2;\n",
       "        }    #T_2711d0b4_af9d_11e9_b0af_44a842ecf333row4_col1 {\n",
       "            background-color:  #465ecf;\n",
       "        }    #T_2711d0b4_af9d_11e9_b0af_44a842ecf333row4_col2 {\n",
       "            background-color:  #84a7fc;\n",
       "        }    #T_2711d0b4_af9d_11e9_b0af_44a842ecf333row4_col3 {\n",
       "            background-color:  #81a4fb;\n",
       "        }    #T_2711d0b4_af9d_11e9_b0af_44a842ecf333row4_col4 {\n",
       "            background-color:  #b40426;\n",
       "        }    #T_2711d0b4_af9d_11e9_b0af_44a842ecf333row4_col5 {\n",
       "            background-color:  #7da0f9;\n",
       "        }    #T_2711d0b4_af9d_11e9_b0af_44a842ecf333row4_col6 {\n",
       "            background-color:  #799cf8;\n",
       "        }    #T_2711d0b4_af9d_11e9_b0af_44a842ecf333row4_col7 {\n",
       "            background-color:  #688aef;\n",
       "        }    #T_2711d0b4_af9d_11e9_b0af_44a842ecf333row4_col8 {\n",
       "            background-color:  #3b4cc0;\n",
       "        }    #T_2711d0b4_af9d_11e9_b0af_44a842ecf333row4_col9 {\n",
       "            background-color:  #6a8bef;\n",
       "        }    #T_2711d0b4_af9d_11e9_b0af_44a842ecf333row4_col10 {\n",
       "            background-color:  #4f69d9;\n",
       "        }    #T_2711d0b4_af9d_11e9_b0af_44a842ecf333row4_col11 {\n",
       "            background-color:  #4c66d6;\n",
       "        }    #T_2711d0b4_af9d_11e9_b0af_44a842ecf333row4_col12 {\n",
       "            background-color:  #688aef;\n",
       "        }    #T_2711d0b4_af9d_11e9_b0af_44a842ecf333row4_col13 {\n",
       "            background-color:  #4055c8;\n",
       "        }    #T_2711d0b4_af9d_11e9_b0af_44a842ecf333row4_col14 {\n",
       "            background-color:  #c83836;\n",
       "        }    #T_2711d0b4_af9d_11e9_b0af_44a842ecf333row5_col0 {\n",
       "            background-color:  #80a3fa;\n",
       "        }    #T_2711d0b4_af9d_11e9_b0af_44a842ecf333row5_col1 {\n",
       "            background-color:  #7a9df8;\n",
       "        }    #T_2711d0b4_af9d_11e9_b0af_44a842ecf333row5_col2 {\n",
       "            background-color:  #f08a6c;\n",
       "        }    #T_2711d0b4_af9d_11e9_b0af_44a842ecf333row5_col3 {\n",
       "            background-color:  #f39778;\n",
       "        }    #T_2711d0b4_af9d_11e9_b0af_44a842ecf333row5_col4 {\n",
       "            background-color:  #7a9df8;\n",
       "        }    #T_2711d0b4_af9d_11e9_b0af_44a842ecf333row5_col5 {\n",
       "            background-color:  #b40426;\n",
       "        }    #T_2711d0b4_af9d_11e9_b0af_44a842ecf333row5_col6 {\n",
       "            background-color:  #e97a5f;\n",
       "        }    #T_2711d0b4_af9d_11e9_b0af_44a842ecf333row5_col7 {\n",
       "            background-color:  #a9c6fd;\n",
       "        }    #T_2711d0b4_af9d_11e9_b0af_44a842ecf333row5_col8 {\n",
       "            background-color:  #5a78e4;\n",
       "        }    #T_2711d0b4_af9d_11e9_b0af_44a842ecf333row5_col9 {\n",
       "            background-color:  #4055c8;\n",
       "        }    #T_2711d0b4_af9d_11e9_b0af_44a842ecf333row5_col10 {\n",
       "            background-color:  #3d50c3;\n",
       "        }    #T_2711d0b4_af9d_11e9_b0af_44a842ecf333row5_col11 {\n",
       "            background-color:  #3e51c5;\n",
       "        }    #T_2711d0b4_af9d_11e9_b0af_44a842ecf333row5_col12 {\n",
       "            background-color:  #4055c8;\n",
       "        }    #T_2711d0b4_af9d_11e9_b0af_44a842ecf333row5_col13 {\n",
       "            background-color:  #5673e0;\n",
       "        }    #T_2711d0b4_af9d_11e9_b0af_44a842ecf333row5_col14 {\n",
       "            background-color:  #779af7;\n",
       "        }    #T_2711d0b4_af9d_11e9_b0af_44a842ecf333row6_col0 {\n",
       "            background-color:  #82a6fb;\n",
       "        }    #T_2711d0b4_af9d_11e9_b0af_44a842ecf333row6_col1 {\n",
       "            background-color:  #6c8ff1;\n",
       "        }    #T_2711d0b4_af9d_11e9_b0af_44a842ecf333row6_col2 {\n",
       "            background-color:  #e67259;\n",
       "        }    #T_2711d0b4_af9d_11e9_b0af_44a842ecf333row6_col3 {\n",
       "            background-color:  #e46e56;\n",
       "        }    #T_2711d0b4_af9d_11e9_b0af_44a842ecf333row6_col4 {\n",
       "            background-color:  #7093f3;\n",
       "        }    #T_2711d0b4_af9d_11e9_b0af_44a842ecf333row6_col5 {\n",
       "            background-color:  #ea7b60;\n",
       "        }    #T_2711d0b4_af9d_11e9_b0af_44a842ecf333row6_col6 {\n",
       "            background-color:  #b40426;\n",
       "        }    #T_2711d0b4_af9d_11e9_b0af_44a842ecf333row6_col7 {\n",
       "            background-color:  #90b2fe;\n",
       "        }    #T_2711d0b4_af9d_11e9_b0af_44a842ecf333row6_col8 {\n",
       "            background-color:  #4f69d9;\n",
       "        }    #T_2711d0b4_af9d_11e9_b0af_44a842ecf333row6_col9 {\n",
       "            background-color:  #3b4cc0;\n",
       "        }    #T_2711d0b4_af9d_11e9_b0af_44a842ecf333row6_col10 {\n",
       "            background-color:  #4055c8;\n",
       "        }    #T_2711d0b4_af9d_11e9_b0af_44a842ecf333row6_col11 {\n",
       "            background-color:  #3e51c5;\n",
       "        }    #T_2711d0b4_af9d_11e9_b0af_44a842ecf333row6_col12 {\n",
       "            background-color:  #3b4cc0;\n",
       "        }    #T_2711d0b4_af9d_11e9_b0af_44a842ecf333row6_col13 {\n",
       "            background-color:  #4c66d6;\n",
       "        }    #T_2711d0b4_af9d_11e9_b0af_44a842ecf333row6_col14 {\n",
       "            background-color:  #6e90f2;\n",
       "        }    #T_2711d0b4_af9d_11e9_b0af_44a842ecf333row7_col0 {\n",
       "            background-color:  #6a8bef;\n",
       "        }    #T_2711d0b4_af9d_11e9_b0af_44a842ecf333row7_col1 {\n",
       "            background-color:  #c0d4f5;\n",
       "        }    #T_2711d0b4_af9d_11e9_b0af_44a842ecf333row7_col2 {\n",
       "            background-color:  #b3cdfb;\n",
       "        }    #T_2711d0b4_af9d_11e9_b0af_44a842ecf333row7_col3 {\n",
       "            background-color:  #aac7fd;\n",
       "        }    #T_2711d0b4_af9d_11e9_b0af_44a842ecf333row7_col4 {\n",
       "            background-color:  #7093f3;\n",
       "        }    #T_2711d0b4_af9d_11e9_b0af_44a842ecf333row7_col5 {\n",
       "            background-color:  #b1cbfc;\n",
       "        }    #T_2711d0b4_af9d_11e9_b0af_44a842ecf333row7_col6 {\n",
       "            background-color:  #9fbfff;\n",
       "        }    #T_2711d0b4_af9d_11e9_b0af_44a842ecf333row7_col7 {\n",
       "            background-color:  #b40426;\n",
       "        }    #T_2711d0b4_af9d_11e9_b0af_44a842ecf333row7_col8 {\n",
       "            background-color:  #5977e3;\n",
       "        }    #T_2711d0b4_af9d_11e9_b0af_44a842ecf333row7_col9 {\n",
       "            background-color:  #5f7fe8;\n",
       "        }    #T_2711d0b4_af9d_11e9_b0af_44a842ecf333row7_col10 {\n",
       "            background-color:  #4b64d5;\n",
       "        }    #T_2711d0b4_af9d_11e9_b0af_44a842ecf333row7_col11 {\n",
       "            background-color:  #445acc;\n",
       "        }    #T_2711d0b4_af9d_11e9_b0af_44a842ecf333row7_col12 {\n",
       "            background-color:  #5b7ae5;\n",
       "        }    #T_2711d0b4_af9d_11e9_b0af_44a842ecf333row7_col13 {\n",
       "            background-color:  #5572df;\n",
       "        }    #T_2711d0b4_af9d_11e9_b0af_44a842ecf333row7_col14 {\n",
       "            background-color:  #7295f4;\n",
       "        }    #T_2711d0b4_af9d_11e9_b0af_44a842ecf333row8_col0 {\n",
       "            background-color:  #3c4ec2;\n",
       "        }    #T_2711d0b4_af9d_11e9_b0af_44a842ecf333row8_col1 {\n",
       "            background-color:  #3e51c5;\n",
       "        }    #T_2711d0b4_af9d_11e9_b0af_44a842ecf333row8_col2 {\n",
       "            background-color:  #4e68d8;\n",
       "        }    #T_2711d0b4_af9d_11e9_b0af_44a842ecf333row8_col3 {\n",
       "            background-color:  #5470de;\n",
       "        }    #T_2711d0b4_af9d_11e9_b0af_44a842ecf333row8_col4 {\n",
       "            background-color:  #3b4cc0;\n",
       "        }    #T_2711d0b4_af9d_11e9_b0af_44a842ecf333row8_col5 {\n",
       "            background-color:  #5b7ae5;\n",
       "        }    #T_2711d0b4_af9d_11e9_b0af_44a842ecf333row8_col6 {\n",
       "            background-color:  #5673e0;\n",
       "        }    #T_2711d0b4_af9d_11e9_b0af_44a842ecf333row8_col7 {\n",
       "            background-color:  #4f69d9;\n",
       "        }    #T_2711d0b4_af9d_11e9_b0af_44a842ecf333row8_col8 {\n",
       "            background-color:  #b40426;\n",
       "        }    #T_2711d0b4_af9d_11e9_b0af_44a842ecf333row8_col9 {\n",
       "            background-color:  #6282ea;\n",
       "        }    #T_2711d0b4_af9d_11e9_b0af_44a842ecf333row8_col10 {\n",
       "            background-color:  #4a63d3;\n",
       "        }    #T_2711d0b4_af9d_11e9_b0af_44a842ecf333row8_col11 {\n",
       "            background-color:  #4f69d9;\n",
       "        }    #T_2711d0b4_af9d_11e9_b0af_44a842ecf333row8_col12 {\n",
       "            background-color:  #5f7fe8;\n",
       "        }    #T_2711d0b4_af9d_11e9_b0af_44a842ecf333row8_col13 {\n",
       "            background-color:  #ba162b;\n",
       "        }    #T_2711d0b4_af9d_11e9_b0af_44a842ecf333row8_col14 {\n",
       "            background-color:  #3b4cc0;\n",
       "        }    #T_2711d0b4_af9d_11e9_b0af_44a842ecf333row9_col0 {\n",
       "            background-color:  #6384eb;\n",
       "        }    #T_2711d0b4_af9d_11e9_b0af_44a842ecf333row9_col1 {\n",
       "            background-color:  #3b4cc0;\n",
       "        }    #T_2711d0b4_af9d_11e9_b0af_44a842ecf333row9_col2 {\n",
       "            background-color:  #445acc;\n",
       "        }    #T_2711d0b4_af9d_11e9_b0af_44a842ecf333row9_col3 {\n",
       "            background-color:  #3f53c6;\n",
       "        }    #T_2711d0b4_af9d_11e9_b0af_44a842ecf333row9_col4 {\n",
       "            background-color:  #6282ea;\n",
       "        }    #T_2711d0b4_af9d_11e9_b0af_44a842ecf333row9_col5 {\n",
       "            background-color:  #3c4ec2;\n",
       "        }    #T_2711d0b4_af9d_11e9_b0af_44a842ecf333row9_col6 {\n",
       "            background-color:  #3b4cc0;\n",
       "        }    #T_2711d0b4_af9d_11e9_b0af_44a842ecf333row9_col7 {\n",
       "            background-color:  #4e68d8;\n",
       "        }    #T_2711d0b4_af9d_11e9_b0af_44a842ecf333row9_col8 {\n",
       "            background-color:  #5b7ae5;\n",
       "        }    #T_2711d0b4_af9d_11e9_b0af_44a842ecf333row9_col9 {\n",
       "            background-color:  #b40426;\n",
       "        }    #T_2711d0b4_af9d_11e9_b0af_44a842ecf333row9_col10 {\n",
       "            background-color:  #779af7;\n",
       "        }    #T_2711d0b4_af9d_11e9_b0af_44a842ecf333row9_col11 {\n",
       "            background-color:  #5977e3;\n",
       "        }    #T_2711d0b4_af9d_11e9_b0af_44a842ecf333row9_col12 {\n",
       "            background-color:  #b8122a;\n",
       "        }    #T_2711d0b4_af9d_11e9_b0af_44a842ecf333row9_col13 {\n",
       "            background-color:  #5f7fe8;\n",
       "        }    #T_2711d0b4_af9d_11e9_b0af_44a842ecf333row9_col14 {\n",
       "            background-color:  #6687ed;\n",
       "        }    #T_2711d0b4_af9d_11e9_b0af_44a842ecf333row10_col0 {\n",
       "            background-color:  #6485ec;\n",
       "        }    #T_2711d0b4_af9d_11e9_b0af_44a842ecf333row10_col1 {\n",
       "            background-color:  #3d50c3;\n",
       "        }    #T_2711d0b4_af9d_11e9_b0af_44a842ecf333row10_col2 {\n",
       "            background-color:  #3b4cc0;\n",
       "        }    #T_2711d0b4_af9d_11e9_b0af_44a842ecf333row10_col3 {\n",
       "            background-color:  #3b4cc0;\n",
       "        }    #T_2711d0b4_af9d_11e9_b0af_44a842ecf333row10_col4 {\n",
       "            background-color:  #4c66d6;\n",
       "        }    #T_2711d0b4_af9d_11e9_b0af_44a842ecf333row10_col5 {\n",
       "            background-color:  #3c4ec2;\n",
       "        }    #T_2711d0b4_af9d_11e9_b0af_44a842ecf333row10_col6 {\n",
       "            background-color:  #455cce;\n",
       "        }    #T_2711d0b4_af9d_11e9_b0af_44a842ecf333row10_col7 {\n",
       "            background-color:  #3f53c6;\n",
       "        }    #T_2711d0b4_af9d_11e9_b0af_44a842ecf333row10_col8 {\n",
       "            background-color:  #4961d2;\n",
       "        }    #T_2711d0b4_af9d_11e9_b0af_44a842ecf333row10_col9 {\n",
       "            background-color:  #7b9ff9;\n",
       "        }    #T_2711d0b4_af9d_11e9_b0af_44a842ecf333row10_col10 {\n",
       "            background-color:  #b40426;\n",
       "        }    #T_2711d0b4_af9d_11e9_b0af_44a842ecf333row10_col11 {\n",
       "            background-color:  #e7745b;\n",
       "        }    #T_2711d0b4_af9d_11e9_b0af_44a842ecf333row10_col12 {\n",
       "            background-color:  #7699f6;\n",
       "        }    #T_2711d0b4_af9d_11e9_b0af_44a842ecf333row10_col13 {\n",
       "            background-color:  #465ecf;\n",
       "        }    #T_2711d0b4_af9d_11e9_b0af_44a842ecf333row10_col14 {\n",
       "            background-color:  #4f69d9;\n",
       "        }    #T_2711d0b4_af9d_11e9_b0af_44a842ecf333row11_col0 {\n",
       "            background-color:  #6485ec;\n",
       "        }    #T_2711d0b4_af9d_11e9_b0af_44a842ecf333row11_col1 {\n",
       "            background-color:  #3d50c3;\n",
       "        }    #T_2711d0b4_af9d_11e9_b0af_44a842ecf333row11_col2 {\n",
       "            background-color:  #3c4ec2;\n",
       "        }    #T_2711d0b4_af9d_11e9_b0af_44a842ecf333row11_col3 {\n",
       "            background-color:  #3c4ec2;\n",
       "        }    #T_2711d0b4_af9d_11e9_b0af_44a842ecf333row11_col4 {\n",
       "            background-color:  #4b64d5;\n",
       "        }    #T_2711d0b4_af9d_11e9_b0af_44a842ecf333row11_col5 {\n",
       "            background-color:  #4055c8;\n",
       "        }    #T_2711d0b4_af9d_11e9_b0af_44a842ecf333row11_col6 {\n",
       "            background-color:  #465ecf;\n",
       "        }    #T_2711d0b4_af9d_11e9_b0af_44a842ecf333row11_col7 {\n",
       "            background-color:  #3b4cc0;\n",
       "        }    #T_2711d0b4_af9d_11e9_b0af_44a842ecf333row11_col8 {\n",
       "            background-color:  #4f69d9;\n",
       "        }    #T_2711d0b4_af9d_11e9_b0af_44a842ecf333row11_col9 {\n",
       "            background-color:  #5f7fe8;\n",
       "        }    #T_2711d0b4_af9d_11e9_b0af_44a842ecf333row11_col10 {\n",
       "            background-color:  #e7745b;\n",
       "        }    #T_2711d0b4_af9d_11e9_b0af_44a842ecf333row11_col11 {\n",
       "            background-color:  #b40426;\n",
       "        }    #T_2711d0b4_af9d_11e9_b0af_44a842ecf333row11_col12 {\n",
       "            background-color:  #5f7fe8;\n",
       "        }    #T_2711d0b4_af9d_11e9_b0af_44a842ecf333row11_col13 {\n",
       "            background-color:  #516ddb;\n",
       "        }    #T_2711d0b4_af9d_11e9_b0af_44a842ecf333row11_col14 {\n",
       "            background-color:  #4c66d6;\n",
       "        }    #T_2711d0b4_af9d_11e9_b0af_44a842ecf333row12_col0 {\n",
       "            background-color:  #6282ea;\n",
       "        }    #T_2711d0b4_af9d_11e9_b0af_44a842ecf333row12_col1 {\n",
       "            background-color:  #3b4cc0;\n",
       "        }    #T_2711d0b4_af9d_11e9_b0af_44a842ecf333row12_col2 {\n",
       "            background-color:  #4257c9;\n",
       "        }    #T_2711d0b4_af9d_11e9_b0af_44a842ecf333row12_col3 {\n",
       "            background-color:  #3f53c6;\n",
       "        }    #T_2711d0b4_af9d_11e9_b0af_44a842ecf333row12_col4 {\n",
       "            background-color:  #5f7fe8;\n",
       "        }    #T_2711d0b4_af9d_11e9_b0af_44a842ecf333row12_col5 {\n",
       "            background-color:  #3b4cc0;\n",
       "        }    #T_2711d0b4_af9d_11e9_b0af_44a842ecf333row12_col6 {\n",
       "            background-color:  #3b4cc0;\n",
       "        }    #T_2711d0b4_af9d_11e9_b0af_44a842ecf333row12_col7 {\n",
       "            background-color:  #4a63d3;\n",
       "        }    #T_2711d0b4_af9d_11e9_b0af_44a842ecf333row12_col8 {\n",
       "            background-color:  #5875e1;\n",
       "        }    #T_2711d0b4_af9d_11e9_b0af_44a842ecf333row12_col9 {\n",
       "            background-color:  #b8122a;\n",
       "        }    #T_2711d0b4_af9d_11e9_b0af_44a842ecf333row12_col10 {\n",
       "            background-color:  #7093f3;\n",
       "        }    #T_2711d0b4_af9d_11e9_b0af_44a842ecf333row12_col11 {\n",
       "            background-color:  #5875e1;\n",
       "        }    #T_2711d0b4_af9d_11e9_b0af_44a842ecf333row12_col12 {\n",
       "            background-color:  #b40426;\n",
       "        }    #T_2711d0b4_af9d_11e9_b0af_44a842ecf333row12_col13 {\n",
       "            background-color:  #5b7ae5;\n",
       "        }    #T_2711d0b4_af9d_11e9_b0af_44a842ecf333row12_col14 {\n",
       "            background-color:  #6485ec;\n",
       "        }    #T_2711d0b4_af9d_11e9_b0af_44a842ecf333row13_col0 {\n",
       "            background-color:  #3b4cc0;\n",
       "        }    #T_2711d0b4_af9d_11e9_b0af_44a842ecf333row13_col1 {\n",
       "            background-color:  #3c4ec2;\n",
       "        }    #T_2711d0b4_af9d_11e9_b0af_44a842ecf333row13_col2 {\n",
       "            background-color:  #4b64d5;\n",
       "        }    #T_2711d0b4_af9d_11e9_b0af_44a842ecf333row13_col3 {\n",
       "            background-color:  #506bda;\n",
       "        }    #T_2711d0b4_af9d_11e9_b0af_44a842ecf333row13_col4 {\n",
       "            background-color:  #3e51c5;\n",
       "        }    #T_2711d0b4_af9d_11e9_b0af_44a842ecf333row13_col5 {\n",
       "            background-color:  #5673e0;\n",
       "        }    #T_2711d0b4_af9d_11e9_b0af_44a842ecf333row13_col6 {\n",
       "            background-color:  #536edd;\n",
       "        }    #T_2711d0b4_af9d_11e9_b0af_44a842ecf333row13_col7 {\n",
       "            background-color:  #4961d2;\n",
       "        }    #T_2711d0b4_af9d_11e9_b0af_44a842ecf333row13_col8 {\n",
       "            background-color:  #ba162b;\n",
       "        }    #T_2711d0b4_af9d_11e9_b0af_44a842ecf333row13_col9 {\n",
       "            background-color:  #6485ec;\n",
       "        }    #T_2711d0b4_af9d_11e9_b0af_44a842ecf333row13_col10 {\n",
       "            background-color:  #485fd1;\n",
       "        }    #T_2711d0b4_af9d_11e9_b0af_44a842ecf333row13_col11 {\n",
       "            background-color:  #4f69d9;\n",
       "        }    #T_2711d0b4_af9d_11e9_b0af_44a842ecf333row13_col12 {\n",
       "            background-color:  #6180e9;\n",
       "        }    #T_2711d0b4_af9d_11e9_b0af_44a842ecf333row13_col13 {\n",
       "            background-color:  #b40426;\n",
       "        }    #T_2711d0b4_af9d_11e9_b0af_44a842ecf333row13_col14 {\n",
       "            background-color:  #3e51c5;\n",
       "        }    #T_2711d0b4_af9d_11e9_b0af_44a842ecf333row14_col0 {\n",
       "            background-color:  #6f92f3;\n",
       "        }    #T_2711d0b4_af9d_11e9_b0af_44a842ecf333row14_col1 {\n",
       "            background-color:  #3f53c6;\n",
       "        }    #T_2711d0b4_af9d_11e9_b0af_44a842ecf333row14_col2 {\n",
       "            background-color:  #80a3fa;\n",
       "        }    #T_2711d0b4_af9d_11e9_b0af_44a842ecf333row14_col3 {\n",
       "            background-color:  #779af7;\n",
       "        }    #T_2711d0b4_af9d_11e9_b0af_44a842ecf333row14_col4 {\n",
       "            background-color:  #c83836;\n",
       "        }    #T_2711d0b4_af9d_11e9_b0af_44a842ecf333row14_col5 {\n",
       "            background-color:  #7a9df8;\n",
       "        }    #T_2711d0b4_af9d_11e9_b0af_44a842ecf333row14_col6 {\n",
       "            background-color:  #779af7;\n",
       "        }    #T_2711d0b4_af9d_11e9_b0af_44a842ecf333row14_col7 {\n",
       "            background-color:  #6a8bef;\n",
       "        }    #T_2711d0b4_af9d_11e9_b0af_44a842ecf333row14_col8 {\n",
       "            background-color:  #3c4ec2;\n",
       "        }    #T_2711d0b4_af9d_11e9_b0af_44a842ecf333row14_col9 {\n",
       "            background-color:  #6e90f2;\n",
       "        }    #T_2711d0b4_af9d_11e9_b0af_44a842ecf333row14_col10 {\n",
       "            background-color:  #536edd;\n",
       "        }    #T_2711d0b4_af9d_11e9_b0af_44a842ecf333row14_col11 {\n",
       "            background-color:  #4e68d8;\n",
       "        }    #T_2711d0b4_af9d_11e9_b0af_44a842ecf333row14_col12 {\n",
       "            background-color:  #6e90f2;\n",
       "        }    #T_2711d0b4_af9d_11e9_b0af_44a842ecf333row14_col13 {\n",
       "            background-color:  #4257c9;\n",
       "        }    #T_2711d0b4_af9d_11e9_b0af_44a842ecf333row14_col14 {\n",
       "            background-color:  #b40426;\n",
       "        }</style>  \n",
       "<table id=\"T_2711d0b4_af9d_11e9_b0af_44a842ecf333\" > \n",
       "<thead>    <tr> \n",
       "        <th class=\"blank level0\" ></th> \n",
       "        <th class=\"col_heading level0 col0\" >radius_0</th> \n",
       "        <th class=\"col_heading level0 col1\" >texture_0</th> \n",
       "        <th class=\"col_heading level0 col2\" >perimeter_0</th> \n",
       "        <th class=\"col_heading level0 col3\" >radius_1</th> \n",
       "        <th class=\"col_heading level0 col4\" >texture_1</th> \n",
       "        <th class=\"col_heading level0 col5\" >perimeter_1</th> \n",
       "        <th class=\"col_heading level0 col6\" >radius_2</th> \n",
       "        <th class=\"col_heading level0 col7\" >texture_2</th> \n",
       "        <th class=\"col_heading level0 col8\" >perimeter_2</th> \n",
       "        <th class=\"col_heading level0 col9\" >age</th> \n",
       "        <th class=\"col_heading level0 col10\" >diag_treat_diff</th> \n",
       "        <th class=\"col_heading level0 col11\" >log_diag_treat_diff</th> \n",
       "        <th class=\"col_heading level0 col12\" >log_age</th> \n",
       "        <th class=\"col_heading level0 col13\" >log_perimeter_2</th> \n",
       "        <th class=\"col_heading level0 col14\" >log_texture_1</th> \n",
       "    </tr></thead> \n",
       "<tbody>    <tr> \n",
       "        <th id=\"T_2711d0b4_af9d_11e9_b0af_44a842ecf333level0_row0\" class=\"row_heading level0 row0\" >radius_0</th> \n",
       "        <td id=\"T_2711d0b4_af9d_11e9_b0af_44a842ecf333row0_col0\" class=\"data row0 col0\" >1</td> \n",
       "        <td id=\"T_2711d0b4_af9d_11e9_b0af_44a842ecf333row0_col1\" class=\"data row0 col1\" >0.0902597</td> \n",
       "        <td id=\"T_2711d0b4_af9d_11e9_b0af_44a842ecf333row0_col2\" class=\"data row0 col2\" >0.127806</td> \n",
       "        <td id=\"T_2711d0b4_af9d_11e9_b0af_44a842ecf333row0_col3\" class=\"data row0 col3\" >0.139668</td> \n",
       "        <td id=\"T_2711d0b4_af9d_11e9_b0af_44a842ecf333row0_col4\" class=\"data row0 col4\" >0.0813388</td> \n",
       "        <td id=\"T_2711d0b4_af9d_11e9_b0af_44a842ecf333row0_col5\" class=\"data row0 col5\" >0.139581</td> \n",
       "        <td id=\"T_2711d0b4_af9d_11e9_b0af_44a842ecf333row0_col6\" class=\"data row0 col6\" >0.147473</td> \n",
       "        <td id=\"T_2711d0b4_af9d_11e9_b0af_44a842ecf333row0_col7\" class=\"data row0 col7\" >0.0717921</td> \n",
       "        <td id=\"T_2711d0b4_af9d_11e9_b0af_44a842ecf333row0_col8\" class=\"data row0 col8\" >-0.0880023</td> \n",
       "        <td id=\"T_2711d0b4_af9d_11e9_b0af_44a842ecf333row0_col9\" class=\"data row0 col9\" >0.0477842</td> \n",
       "        <td id=\"T_2711d0b4_af9d_11e9_b0af_44a842ecf333row0_col10\" class=\"data row0 col10\" >0.0535206</td> \n",
       "        <td id=\"T_2711d0b4_af9d_11e9_b0af_44a842ecf333row0_col11\" class=\"data row0 col11\" >0.0512612</td> \n",
       "        <td id=\"T_2711d0b4_af9d_11e9_b0af_44a842ecf333row0_col12\" class=\"data row0 col12\" >0.0455845</td> \n",
       "        <td id=\"T_2711d0b4_af9d_11e9_b0af_44a842ecf333row0_col13\" class=\"data row0 col13\" >-0.0949075</td> \n",
       "        <td id=\"T_2711d0b4_af9d_11e9_b0af_44a842ecf333row0_col14\" class=\"data row0 col14\" >0.085545</td> \n",
       "    </tr>    <tr> \n",
       "        <th id=\"T_2711d0b4_af9d_11e9_b0af_44a842ecf333level0_row1\" class=\"row_heading level0 row1\" >texture_0</th> \n",
       "        <td id=\"T_2711d0b4_af9d_11e9_b0af_44a842ecf333row1_col0\" class=\"data row1 col0\" >0.0902597</td> \n",
       "        <td id=\"T_2711d0b4_af9d_11e9_b0af_44a842ecf333row1_col1\" class=\"data row1 col1\" >1</td> \n",
       "        <td id=\"T_2711d0b4_af9d_11e9_b0af_44a842ecf333row1_col2\" class=\"data row1 col2\" >0.180504</td> \n",
       "        <td id=\"T_2711d0b4_af9d_11e9_b0af_44a842ecf333row1_col3\" class=\"data row1 col3\" >0.201579</td> \n",
       "        <td id=\"T_2711d0b4_af9d_11e9_b0af_44a842ecf333row1_col4\" class=\"data row1 col4\" >0.0545361</td> \n",
       "        <td id=\"T_2711d0b4_af9d_11e9_b0af_44a842ecf333row1_col5\" class=\"data row1 col5\" >0.207554</td> \n",
       "        <td id=\"T_2711d0b4_af9d_11e9_b0af_44a842ecf333row1_col6\" class=\"data row1 col6\" >0.171654</td> \n",
       "        <td id=\"T_2711d0b4_af9d_11e9_b0af_44a842ecf333row1_col7\" class=\"data row1 col7\" >0.408174</td> \n",
       "        <td id=\"T_2711d0b4_af9d_11e9_b0af_44a842ecf333row1_col8\" class=\"data row1 col8\" >0.0295769</td> \n",
       "        <td id=\"T_2711d0b4_af9d_11e9_b0af_44a842ecf333row1_col9\" class=\"data row1 col9\" >0.015494</td> \n",
       "        <td id=\"T_2711d0b4_af9d_11e9_b0af_44a842ecf333row1_col10\" class=\"data row1 col10\" >0.024759</td> \n",
       "        <td id=\"T_2711d0b4_af9d_11e9_b0af_44a842ecf333row1_col11\" class=\"data row1 col11\" >0.025308</td> \n",
       "        <td id=\"T_2711d0b4_af9d_11e9_b0af_44a842ecf333row1_col12\" class=\"data row1 col12\" >0.0144631</td> \n",
       "        <td id=\"T_2711d0b4_af9d_11e9_b0af_44a842ecf333row1_col13\" class=\"data row1 col13\" >0.0203633</td> \n",
       "        <td id=\"T_2711d0b4_af9d_11e9_b0af_44a842ecf333row1_col14\" class=\"data row1 col14\" >0.031928</td> \n",
       "    </tr>    <tr> \n",
       "        <th id=\"T_2711d0b4_af9d_11e9_b0af_44a842ecf333level0_row2\" class=\"row_heading level0 row2\" >perimeter_0</th> \n",
       "        <td id=\"T_2711d0b4_af9d_11e9_b0af_44a842ecf333row2_col0\" class=\"data row2 col0\" >0.127806</td> \n",
       "        <td id=\"T_2711d0b4_af9d_11e9_b0af_44a842ecf333row2_col1\" class=\"data row2 col1\" >0.180504</td> \n",
       "        <td id=\"T_2711d0b4_af9d_11e9_b0af_44a842ecf333row2_col2\" class=\"data row2 col2\" >1</td> \n",
       "        <td id=\"T_2711d0b4_af9d_11e9_b0af_44a842ecf333row2_col3\" class=\"data row2 col3\" >0.802974</td> \n",
       "        <td id=\"T_2711d0b4_af9d_11e9_b0af_44a842ecf333row2_col4\" class=\"data row2 col4\" >0.151266</td> \n",
       "        <td id=\"T_2711d0b4_af9d_11e9_b0af_44a842ecf333row2_col5\" class=\"data row2 col5\" >0.767958</td> \n",
       "        <td id=\"T_2711d0b4_af9d_11e9_b0af_44a842ecf333row2_col6\" class=\"data row2 col6\" >0.820268</td> \n",
       "        <td id=\"T_2711d0b4_af9d_11e9_b0af_44a842ecf333row2_col7\" class=\"data row2 col7\" >0.30131</td> \n",
       "        <td id=\"T_2711d0b4_af9d_11e9_b0af_44a842ecf333row2_col8\" class=\"data row2 col8\" >-0.0268815</td> \n",
       "        <td id=\"T_2711d0b4_af9d_11e9_b0af_44a842ecf333row2_col9\" class=\"data row2 col9\" >-0.0599031</td> \n",
       "        <td id=\"T_2711d0b4_af9d_11e9_b0af_44a842ecf333row2_col10\" class=\"data row2 col10\" >-0.0955406</td> \n",
       "        <td id=\"T_2711d0b4_af9d_11e9_b0af_44a842ecf333row2_col11\" class=\"data row2 col11\" >-0.0871865</td> \n",
       "        <td id=\"T_2711d0b4_af9d_11e9_b0af_44a842ecf333row2_col12\" class=\"data row2 col12\" >-0.0670745</td> \n",
       "        <td id=\"T_2711d0b4_af9d_11e9_b0af_44a842ecf333row2_col13\" class=\"data row2 col13\" >-0.0340028</td> \n",
       "        <td id=\"T_2711d0b4_af9d_11e9_b0af_44a842ecf333row2_col14\" class=\"data row2 col14\" >0.139754</td> \n",
       "    </tr>    <tr> \n",
       "        <th id=\"T_2711d0b4_af9d_11e9_b0af_44a842ecf333level0_row3\" class=\"row_heading level0 row3\" >radius_1</th> \n",
       "        <td id=\"T_2711d0b4_af9d_11e9_b0af_44a842ecf333row3_col0\" class=\"data row3 col0\" >0.139668</td> \n",
       "        <td id=\"T_2711d0b4_af9d_11e9_b0af_44a842ecf333row3_col1\" class=\"data row3 col1\" >0.201579</td> \n",
       "        <td id=\"T_2711d0b4_af9d_11e9_b0af_44a842ecf333row3_col2\" class=\"data row3 col2\" >0.802974</td> \n",
       "        <td id=\"T_2711d0b4_af9d_11e9_b0af_44a842ecf333row3_col3\" class=\"data row3 col3\" >1</td> \n",
       "        <td id=\"T_2711d0b4_af9d_11e9_b0af_44a842ecf333row3_col4\" class=\"data row3 col4\" >0.160809</td> \n",
       "        <td id=\"T_2711d0b4_af9d_11e9_b0af_44a842ecf333row3_col5\" class=\"data row3 col5\" >0.736722</td> \n",
       "        <td id=\"T_2711d0b4_af9d_11e9_b0af_44a842ecf333row3_col6\" class=\"data row3 col6\" >0.835993</td> \n",
       "        <td id=\"T_2711d0b4_af9d_11e9_b0af_44a842ecf333row3_col7\" class=\"data row3 col7\" >0.284902</td> \n",
       "        <td id=\"T_2711d0b4_af9d_11e9_b0af_44a842ecf333row3_col8\" class=\"data row3 col8\" >0.0160252</td> \n",
       "        <td id=\"T_2711d0b4_af9d_11e9_b0af_44a842ecf333row3_col9\" class=\"data row3 col9\" >-0.0540162</td> \n",
       "        <td id=\"T_2711d0b4_af9d_11e9_b0af_44a842ecf333row3_col10\" class=\"data row3 col10\" >-0.0741483</td> \n",
       "        <td id=\"T_2711d0b4_af9d_11e9_b0af_44a842ecf333row3_col11\" class=\"data row3 col11\" >-0.0675116</td> \n",
       "        <td id=\"T_2711d0b4_af9d_11e9_b0af_44a842ecf333row3_col12\" class=\"data row3 col12\" >-0.0565355</td> \n",
       "        <td id=\"T_2711d0b4_af9d_11e9_b0af_44a842ecf333row3_col13\" class=\"data row3 col13\" >0.00208515</td> \n",
       "        <td id=\"T_2711d0b4_af9d_11e9_b0af_44a842ecf333row3_col14\" class=\"data row3 col14\" >0.129435</td> \n",
       "    </tr>    <tr> \n",
       "        <th id=\"T_2711d0b4_af9d_11e9_b0af_44a842ecf333level0_row4\" class=\"row_heading level0 row4\" >texture_1</th> \n",
       "        <td id=\"T_2711d0b4_af9d_11e9_b0af_44a842ecf333row4_col0\" class=\"data row4 col0\" >0.0813388</td> \n",
       "        <td id=\"T_2711d0b4_af9d_11e9_b0af_44a842ecf333row4_col1\" class=\"data row4 col1\" >0.0545361</td> \n",
       "        <td id=\"T_2711d0b4_af9d_11e9_b0af_44a842ecf333row4_col2\" class=\"data row4 col2\" >0.151266</td> \n",
       "        <td id=\"T_2711d0b4_af9d_11e9_b0af_44a842ecf333row4_col3\" class=\"data row4 col3\" >0.160809</td> \n",
       "        <td id=\"T_2711d0b4_af9d_11e9_b0af_44a842ecf333row4_col4\" class=\"data row4 col4\" >1</td> \n",
       "        <td id=\"T_2711d0b4_af9d_11e9_b0af_44a842ecf333row4_col5\" class=\"data row4 col5\" >0.130941</td> \n",
       "        <td id=\"T_2711d0b4_af9d_11e9_b0af_44a842ecf333row4_col6\" class=\"data row4 col6\" >0.0981138</td> \n",
       "        <td id=\"T_2711d0b4_af9d_11e9_b0af_44a842ecf333row4_col7\" class=\"data row4 col7\" >0.101574</td> \n",
       "        <td id=\"T_2711d0b4_af9d_11e9_b0af_44a842ecf333row4_col8\" class=\"data row4 col8\" >-0.0841248</td> \n",
       "        <td id=\"T_2711d0b4_af9d_11e9_b0af_44a842ecf333row4_col9\" class=\"data row4 col9\" >0.0550635</td> \n",
       "        <td id=\"T_2711d0b4_af9d_11e9_b0af_44a842ecf333row4_col10\" class=\"data row4 col10\" >-0.0203521</td> \n",
       "        <td id=\"T_2711d0b4_af9d_11e9_b0af_44a842ecf333row4_col11\" class=\"data row4 col11\" >-0.0206772</td> \n",
       "        <td id=\"T_2711d0b4_af9d_11e9_b0af_44a842ecf333row4_col12\" class=\"data row4 col12\" >0.0459198</td> \n",
       "        <td id=\"T_2711d0b4_af9d_11e9_b0af_44a842ecf333row4_col13\" class=\"data row4 col13\" >-0.0693353</td> \n",
       "        <td id=\"T_2711d0b4_af9d_11e9_b0af_44a842ecf333row4_col14\" class=\"data row4 col14\" >0.937912</td> \n",
       "    </tr>    <tr> \n",
       "        <th id=\"T_2711d0b4_af9d_11e9_b0af_44a842ecf333level0_row5\" class=\"row_heading level0 row5\" >perimeter_1</th> \n",
       "        <td id=\"T_2711d0b4_af9d_11e9_b0af_44a842ecf333row5_col0\" class=\"data row5 col0\" >0.139581</td> \n",
       "        <td id=\"T_2711d0b4_af9d_11e9_b0af_44a842ecf333row5_col1\" class=\"data row5 col1\" >0.207554</td> \n",
       "        <td id=\"T_2711d0b4_af9d_11e9_b0af_44a842ecf333row5_col2\" class=\"data row5 col2\" >0.767958</td> \n",
       "        <td id=\"T_2711d0b4_af9d_11e9_b0af_44a842ecf333row5_col3\" class=\"data row5 col3\" >0.736722</td> \n",
       "        <td id=\"T_2711d0b4_af9d_11e9_b0af_44a842ecf333row5_col4\" class=\"data row5 col4\" >0.130941</td> \n",
       "        <td id=\"T_2711d0b4_af9d_11e9_b0af_44a842ecf333row5_col5\" class=\"data row5 col5\" >1</td> \n",
       "        <td id=\"T_2711d0b4_af9d_11e9_b0af_44a842ecf333row5_col6\" class=\"data row5 col6\" >0.800601</td> \n",
       "        <td id=\"T_2711d0b4_af9d_11e9_b0af_44a842ecf333row5_col7\" class=\"data row5 col7\" >0.293905</td> \n",
       "        <td id=\"T_2711d0b4_af9d_11e9_b0af_44a842ecf333row5_col8\" class=\"data row5 col8\" >0.023891</td> \n",
       "        <td id=\"T_2711d0b4_af9d_11e9_b0af_44a842ecf333row5_col9\" class=\"data row5 col9\" >-0.0870814</td> \n",
       "        <td id=\"T_2711d0b4_af9d_11e9_b0af_44a842ecf333row5_col10\" class=\"data row5 col10\" >-0.0864003</td> \n",
       "        <td id=\"T_2711d0b4_af9d_11e9_b0af_44a842ecf333row5_col11\" class=\"data row5 col11\" >-0.0711831</td> \n",
       "        <td id=\"T_2711d0b4_af9d_11e9_b0af_44a842ecf333row5_col12\" class=\"data row5 col12\" >-0.0935817</td> \n",
       "        <td id=\"T_2711d0b4_af9d_11e9_b0af_44a842ecf333row5_col13\" class=\"data row5 col13\" >0.00673552</td> \n",
       "        <td id=\"T_2711d0b4_af9d_11e9_b0af_44a842ecf333row5_col14\" class=\"data row5 col14\" >0.122614</td> \n",
       "    </tr>    <tr> \n",
       "        <th id=\"T_2711d0b4_af9d_11e9_b0af_44a842ecf333level0_row6\" class=\"row_heading level0 row6\" >radius_2</th> \n",
       "        <td id=\"T_2711d0b4_af9d_11e9_b0af_44a842ecf333row6_col0\" class=\"data row6 col0\" >0.147473</td> \n",
       "        <td id=\"T_2711d0b4_af9d_11e9_b0af_44a842ecf333row6_col1\" class=\"data row6 col1\" >0.171654</td> \n",
       "        <td id=\"T_2711d0b4_af9d_11e9_b0af_44a842ecf333row6_col2\" class=\"data row6 col2\" >0.820268</td> \n",
       "        <td id=\"T_2711d0b4_af9d_11e9_b0af_44a842ecf333row6_col3\" class=\"data row6 col3\" >0.835993</td> \n",
       "        <td id=\"T_2711d0b4_af9d_11e9_b0af_44a842ecf333row6_col4\" class=\"data row6 col4\" >0.0981138</td> \n",
       "        <td id=\"T_2711d0b4_af9d_11e9_b0af_44a842ecf333row6_col5\" class=\"data row6 col5\" >0.800601</td> \n",
       "        <td id=\"T_2711d0b4_af9d_11e9_b0af_44a842ecf333row6_col6\" class=\"data row6 col6\" >1</td> \n",
       "        <td id=\"T_2711d0b4_af9d_11e9_b0af_44a842ecf333row6_col7\" class=\"data row6 col7\" >0.221249</td> \n",
       "        <td id=\"T_2711d0b4_af9d_11e9_b0af_44a842ecf333row6_col8\" class=\"data row6 col8\" >-0.0136575</td> \n",
       "        <td id=\"T_2711d0b4_af9d_11e9_b0af_44a842ecf333row6_col9\" class=\"data row6 col9\" >-0.112529</td> \n",
       "        <td id=\"T_2711d0b4_af9d_11e9_b0af_44a842ecf333row6_col10\" class=\"data row6 col10\" >-0.0741109</td> \n",
       "        <td id=\"T_2711d0b4_af9d_11e9_b0af_44a842ecf333row6_col11\" class=\"data row6 col11\" >-0.0718392</td> \n",
       "        <td id=\"T_2711d0b4_af9d_11e9_b0af_44a842ecf333row6_col12\" class=\"data row6 col12\" >-0.116372</td> \n",
       "        <td id=\"T_2711d0b4_af9d_11e9_b0af_44a842ecf333row6_col13\" class=\"data row6 col13\" >-0.0272762</td> \n",
       "        <td id=\"T_2711d0b4_af9d_11e9_b0af_44a842ecf333row6_col14\" class=\"data row6 col14\" >0.0929627</td> \n",
       "    </tr>    <tr> \n",
       "        <th id=\"T_2711d0b4_af9d_11e9_b0af_44a842ecf333level0_row7\" class=\"row_heading level0 row7\" >texture_2</th> \n",
       "        <td id=\"T_2711d0b4_af9d_11e9_b0af_44a842ecf333row7_col0\" class=\"data row7 col0\" >0.0717921</td> \n",
       "        <td id=\"T_2711d0b4_af9d_11e9_b0af_44a842ecf333row7_col1\" class=\"data row7 col1\" >0.408174</td> \n",
       "        <td id=\"T_2711d0b4_af9d_11e9_b0af_44a842ecf333row7_col2\" class=\"data row7 col2\" >0.30131</td> \n",
       "        <td id=\"T_2711d0b4_af9d_11e9_b0af_44a842ecf333row7_col3\" class=\"data row7 col3\" >0.284902</td> \n",
       "        <td id=\"T_2711d0b4_af9d_11e9_b0af_44a842ecf333row7_col4\" class=\"data row7 col4\" >0.101574</td> \n",
       "        <td id=\"T_2711d0b4_af9d_11e9_b0af_44a842ecf333row7_col5\" class=\"data row7 col5\" >0.293905</td> \n",
       "        <td id=\"T_2711d0b4_af9d_11e9_b0af_44a842ecf333row7_col6\" class=\"data row7 col6\" >0.221249</td> \n",
       "        <td id=\"T_2711d0b4_af9d_11e9_b0af_44a842ecf333row7_col7\" class=\"data row7 col7\" >1</td> \n",
       "        <td id=\"T_2711d0b4_af9d_11e9_b0af_44a842ecf333row7_col8\" class=\"data row7 col8\" >0.0206193</td> \n",
       "        <td id=\"T_2711d0b4_af9d_11e9_b0af_44a842ecf333row7_col9\" class=\"data row7 col9\" >0.0178753</td> \n",
       "        <td id=\"T_2711d0b4_af9d_11e9_b0af_44a842ecf333row7_col10\" class=\"data row7 col10\" >-0.0333972</td> \n",
       "        <td id=\"T_2711d0b4_af9d_11e9_b0af_44a842ecf333row7_col11\" class=\"data row7 col11\" >-0.0515815</td> \n",
       "        <td id=\"T_2711d0b4_af9d_11e9_b0af_44a842ecf333row7_col12\" class=\"data row7 col12\" >0.00430196</td> \n",
       "        <td id=\"T_2711d0b4_af9d_11e9_b0af_44a842ecf333row7_col13\" class=\"data row7 col13\" >0.000312028</td> \n",
       "        <td id=\"T_2711d0b4_af9d_11e9_b0af_44a842ecf333row7_col14\" class=\"data row7 col14\" >0.106583</td> \n",
       "    </tr>    <tr> \n",
       "        <th id=\"T_2711d0b4_af9d_11e9_b0af_44a842ecf333level0_row8\" class=\"row_heading level0 row8\" >perimeter_2</th> \n",
       "        <td id=\"T_2711d0b4_af9d_11e9_b0af_44a842ecf333row8_col0\" class=\"data row8 col0\" >-0.0880023</td> \n",
       "        <td id=\"T_2711d0b4_af9d_11e9_b0af_44a842ecf333row8_col1\" class=\"data row8 col1\" >0.0295769</td> \n",
       "        <td id=\"T_2711d0b4_af9d_11e9_b0af_44a842ecf333row8_col2\" class=\"data row8 col2\" >-0.0268815</td> \n",
       "        <td id=\"T_2711d0b4_af9d_11e9_b0af_44a842ecf333row8_col3\" class=\"data row8 col3\" >0.0160252</td> \n",
       "        <td id=\"T_2711d0b4_af9d_11e9_b0af_44a842ecf333row8_col4\" class=\"data row8 col4\" >-0.0841248</td> \n",
       "        <td id=\"T_2711d0b4_af9d_11e9_b0af_44a842ecf333row8_col5\" class=\"data row8 col5\" >0.023891</td> \n",
       "        <td id=\"T_2711d0b4_af9d_11e9_b0af_44a842ecf333row8_col6\" class=\"data row8 col6\" >-0.0136575</td> \n",
       "        <td id=\"T_2711d0b4_af9d_11e9_b0af_44a842ecf333row8_col7\" class=\"data row8 col7\" >0.0206193</td> \n",
       "        <td id=\"T_2711d0b4_af9d_11e9_b0af_44a842ecf333row8_col8\" class=\"data row8 col8\" >1</td> \n",
       "        <td id=\"T_2711d0b4_af9d_11e9_b0af_44a842ecf333row8_col9\" class=\"data row8 col9\" >0.0300572</td> \n",
       "        <td id=\"T_2711d0b4_af9d_11e9_b0af_44a842ecf333row8_col10\" class=\"data row8 col10\" >-0.035906</td> \n",
       "        <td id=\"T_2711d0b4_af9d_11e9_b0af_44a842ecf333row8_col11\" class=\"data row8 col11\" >-0.0145522</td> \n",
       "        <td id=\"T_2711d0b4_af9d_11e9_b0af_44a842ecf333row8_col12\" class=\"data row8 col12\" >0.0161498</td> \n",
       "        <td id=\"T_2711d0b4_af9d_11e9_b0af_44a842ecf333row8_col13\" class=\"data row8 col13\" >0.981572</td> \n",
       "        <td id=\"T_2711d0b4_af9d_11e9_b0af_44a842ecf333row8_col14\" class=\"data row8 col14\" >-0.0821457</td> \n",
       "    </tr>    <tr> \n",
       "        <th id=\"T_2711d0b4_af9d_11e9_b0af_44a842ecf333level0_row9\" class=\"row_heading level0 row9\" >age</th> \n",
       "        <td id=\"T_2711d0b4_af9d_11e9_b0af_44a842ecf333row9_col0\" class=\"data row9 col0\" >0.0477842</td> \n",
       "        <td id=\"T_2711d0b4_af9d_11e9_b0af_44a842ecf333row9_col1\" class=\"data row9 col1\" >0.015494</td> \n",
       "        <td id=\"T_2711d0b4_af9d_11e9_b0af_44a842ecf333row9_col2\" class=\"data row9 col2\" >-0.0599031</td> \n",
       "        <td id=\"T_2711d0b4_af9d_11e9_b0af_44a842ecf333row9_col3\" class=\"data row9 col3\" >-0.0540162</td> \n",
       "        <td id=\"T_2711d0b4_af9d_11e9_b0af_44a842ecf333row9_col4\" class=\"data row9 col4\" >0.0550635</td> \n",
       "        <td id=\"T_2711d0b4_af9d_11e9_b0af_44a842ecf333row9_col5\" class=\"data row9 col5\" >-0.0870814</td> \n",
       "        <td id=\"T_2711d0b4_af9d_11e9_b0af_44a842ecf333row9_col6\" class=\"data row9 col6\" >-0.112529</td> \n",
       "        <td id=\"T_2711d0b4_af9d_11e9_b0af_44a842ecf333row9_col7\" class=\"data row9 col7\" >0.0178753</td> \n",
       "        <td id=\"T_2711d0b4_af9d_11e9_b0af_44a842ecf333row9_col8\" class=\"data row9 col8\" >0.0300572</td> \n",
       "        <td id=\"T_2711d0b4_af9d_11e9_b0af_44a842ecf333row9_col9\" class=\"data row9 col9\" >1</td> \n",
       "        <td id=\"T_2711d0b4_af9d_11e9_b0af_44a842ecf333row9_col10\" class=\"data row9 col10\" >0.112484</td> \n",
       "        <td id=\"T_2711d0b4_af9d_11e9_b0af_44a842ecf333row9_col11\" class=\"data row9 col11\" >0.0197027</td> \n",
       "        <td id=\"T_2711d0b4_af9d_11e9_b0af_44a842ecf333row9_col12\" class=\"data row9 col12\" >0.985797</td> \n",
       "        <td id=\"T_2711d0b4_af9d_11e9_b0af_44a842ecf333row9_col13\" class=\"data row9 col13\" >0.0361279</td> \n",
       "        <td id=\"T_2711d0b4_af9d_11e9_b0af_44a842ecf333row9_col14\" class=\"data row9 col14\" >0.0688472</td> \n",
       "    </tr>    <tr> \n",
       "        <th id=\"T_2711d0b4_af9d_11e9_b0af_44a842ecf333level0_row10\" class=\"row_heading level0 row10\" >diag_treat_diff</th> \n",
       "        <td id=\"T_2711d0b4_af9d_11e9_b0af_44a842ecf333row10_col0\" class=\"data row10 col0\" >0.0535206</td> \n",
       "        <td id=\"T_2711d0b4_af9d_11e9_b0af_44a842ecf333row10_col1\" class=\"data row10 col1\" >0.024759</td> \n",
       "        <td id=\"T_2711d0b4_af9d_11e9_b0af_44a842ecf333row10_col2\" class=\"data row10 col2\" >-0.0955406</td> \n",
       "        <td id=\"T_2711d0b4_af9d_11e9_b0af_44a842ecf333row10_col3\" class=\"data row10 col3\" >-0.0741483</td> \n",
       "        <td id=\"T_2711d0b4_af9d_11e9_b0af_44a842ecf333row10_col4\" class=\"data row10 col4\" >-0.0203521</td> \n",
       "        <td id=\"T_2711d0b4_af9d_11e9_b0af_44a842ecf333row10_col5\" class=\"data row10 col5\" >-0.0864003</td> \n",
       "        <td id=\"T_2711d0b4_af9d_11e9_b0af_44a842ecf333row10_col6\" class=\"data row10 col6\" >-0.0741109</td> \n",
       "        <td id=\"T_2711d0b4_af9d_11e9_b0af_44a842ecf333row10_col7\" class=\"data row10 col7\" >-0.0333972</td> \n",
       "        <td id=\"T_2711d0b4_af9d_11e9_b0af_44a842ecf333row10_col8\" class=\"data row10 col8\" >-0.035906</td> \n",
       "        <td id=\"T_2711d0b4_af9d_11e9_b0af_44a842ecf333row10_col9\" class=\"data row10 col9\" >0.112484</td> \n",
       "        <td id=\"T_2711d0b4_af9d_11e9_b0af_44a842ecf333row10_col10\" class=\"data row10 col10\" >1</td> \n",
       "        <td id=\"T_2711d0b4_af9d_11e9_b0af_44a842ecf333row10_col11\" class=\"data row10 col11\" >0.819383</td> \n",
       "        <td id=\"T_2711d0b4_af9d_11e9_b0af_44a842ecf333row10_col12\" class=\"data row10 col12\" >0.0922031</td> \n",
       "        <td id=\"T_2711d0b4_af9d_11e9_b0af_44a842ecf333row10_col13\" class=\"data row10 col13\" >-0.0479371</td> \n",
       "        <td id=\"T_2711d0b4_af9d_11e9_b0af_44a842ecf333row10_col14\" class=\"data row10 col14\" >-0.00720087</td> \n",
       "    </tr>    <tr> \n",
       "        <th id=\"T_2711d0b4_af9d_11e9_b0af_44a842ecf333level0_row11\" class=\"row_heading level0 row11\" >log_diag_treat_diff</th> \n",
       "        <td id=\"T_2711d0b4_af9d_11e9_b0af_44a842ecf333row11_col0\" class=\"data row11 col0\" >0.0512612</td> \n",
       "        <td id=\"T_2711d0b4_af9d_11e9_b0af_44a842ecf333row11_col1\" class=\"data row11 col1\" >0.025308</td> \n",
       "        <td id=\"T_2711d0b4_af9d_11e9_b0af_44a842ecf333row11_col2\" class=\"data row11 col2\" >-0.0871865</td> \n",
       "        <td id=\"T_2711d0b4_af9d_11e9_b0af_44a842ecf333row11_col3\" class=\"data row11 col3\" >-0.0675116</td> \n",
       "        <td id=\"T_2711d0b4_af9d_11e9_b0af_44a842ecf333row11_col4\" class=\"data row11 col4\" >-0.0206772</td> \n",
       "        <td id=\"T_2711d0b4_af9d_11e9_b0af_44a842ecf333row11_col5\" class=\"data row11 col5\" >-0.0711831</td> \n",
       "        <td id=\"T_2711d0b4_af9d_11e9_b0af_44a842ecf333row11_col6\" class=\"data row11 col6\" >-0.0718392</td> \n",
       "        <td id=\"T_2711d0b4_af9d_11e9_b0af_44a842ecf333row11_col7\" class=\"data row11 col7\" >-0.0515815</td> \n",
       "        <td id=\"T_2711d0b4_af9d_11e9_b0af_44a842ecf333row11_col8\" class=\"data row11 col8\" >-0.0145522</td> \n",
       "        <td id=\"T_2711d0b4_af9d_11e9_b0af_44a842ecf333row11_col9\" class=\"data row11 col9\" >0.0197027</td> \n",
       "        <td id=\"T_2711d0b4_af9d_11e9_b0af_44a842ecf333row11_col10\" class=\"data row11 col10\" >0.819383</td> \n",
       "        <td id=\"T_2711d0b4_af9d_11e9_b0af_44a842ecf333row11_col11\" class=\"data row11 col11\" >1</td> \n",
       "        <td id=\"T_2711d0b4_af9d_11e9_b0af_44a842ecf333row11_col12\" class=\"data row11 col12\" >0.0154864</td> \n",
       "        <td id=\"T_2711d0b4_af9d_11e9_b0af_44a842ecf333row11_col13\" class=\"data row11 col13\" >-0.0126306</td> \n",
       "        <td id=\"T_2711d0b4_af9d_11e9_b0af_44a842ecf333row11_col14\" class=\"data row11 col14\" >-0.0155808</td> \n",
       "    </tr>    <tr> \n",
       "        <th id=\"T_2711d0b4_af9d_11e9_b0af_44a842ecf333level0_row12\" class=\"row_heading level0 row12\" >log_age</th> \n",
       "        <td id=\"T_2711d0b4_af9d_11e9_b0af_44a842ecf333row12_col0\" class=\"data row12 col0\" >0.0455845</td> \n",
       "        <td id=\"T_2711d0b4_af9d_11e9_b0af_44a842ecf333row12_col1\" class=\"data row12 col1\" >0.0144631</td> \n",
       "        <td id=\"T_2711d0b4_af9d_11e9_b0af_44a842ecf333row12_col2\" class=\"data row12 col2\" >-0.0670745</td> \n",
       "        <td id=\"T_2711d0b4_af9d_11e9_b0af_44a842ecf333row12_col3\" class=\"data row12 col3\" >-0.0565355</td> \n",
       "        <td id=\"T_2711d0b4_af9d_11e9_b0af_44a842ecf333row12_col4\" class=\"data row12 col4\" >0.0459198</td> \n",
       "        <td id=\"T_2711d0b4_af9d_11e9_b0af_44a842ecf333row12_col5\" class=\"data row12 col5\" >-0.0935817</td> \n",
       "        <td id=\"T_2711d0b4_af9d_11e9_b0af_44a842ecf333row12_col6\" class=\"data row12 col6\" >-0.116372</td> \n",
       "        <td id=\"T_2711d0b4_af9d_11e9_b0af_44a842ecf333row12_col7\" class=\"data row12 col7\" >0.00430196</td> \n",
       "        <td id=\"T_2711d0b4_af9d_11e9_b0af_44a842ecf333row12_col8\" class=\"data row12 col8\" >0.0161498</td> \n",
       "        <td id=\"T_2711d0b4_af9d_11e9_b0af_44a842ecf333row12_col9\" class=\"data row12 col9\" >0.985797</td> \n",
       "        <td id=\"T_2711d0b4_af9d_11e9_b0af_44a842ecf333row12_col10\" class=\"data row12 col10\" >0.0922031</td> \n",
       "        <td id=\"T_2711d0b4_af9d_11e9_b0af_44a842ecf333row12_col11\" class=\"data row12 col11\" >0.0154864</td> \n",
       "        <td id=\"T_2711d0b4_af9d_11e9_b0af_44a842ecf333row12_col12\" class=\"data row12 col12\" >1</td> \n",
       "        <td id=\"T_2711d0b4_af9d_11e9_b0af_44a842ecf333row12_col13\" class=\"data row12 col13\" >0.0227167</td> \n",
       "        <td id=\"T_2711d0b4_af9d_11e9_b0af_44a842ecf333row12_col14\" class=\"data row12 col14\" >0.0641864</td> \n",
       "    </tr>    <tr> \n",
       "        <th id=\"T_2711d0b4_af9d_11e9_b0af_44a842ecf333level0_row13\" class=\"row_heading level0 row13\" >log_perimeter_2</th> \n",
       "        <td id=\"T_2711d0b4_af9d_11e9_b0af_44a842ecf333row13_col0\" class=\"data row13 col0\" >-0.0949075</td> \n",
       "        <td id=\"T_2711d0b4_af9d_11e9_b0af_44a842ecf333row13_col1\" class=\"data row13 col1\" >0.0203633</td> \n",
       "        <td id=\"T_2711d0b4_af9d_11e9_b0af_44a842ecf333row13_col2\" class=\"data row13 col2\" >-0.0340028</td> \n",
       "        <td id=\"T_2711d0b4_af9d_11e9_b0af_44a842ecf333row13_col3\" class=\"data row13 col3\" >0.00208515</td> \n",
       "        <td id=\"T_2711d0b4_af9d_11e9_b0af_44a842ecf333row13_col4\" class=\"data row13 col4\" >-0.0693353</td> \n",
       "        <td id=\"T_2711d0b4_af9d_11e9_b0af_44a842ecf333row13_col5\" class=\"data row13 col5\" >0.00673552</td> \n",
       "        <td id=\"T_2711d0b4_af9d_11e9_b0af_44a842ecf333row13_col6\" class=\"data row13 col6\" >-0.0272762</td> \n",
       "        <td id=\"T_2711d0b4_af9d_11e9_b0af_44a842ecf333row13_col7\" class=\"data row13 col7\" >0.000312028</td> \n",
       "        <td id=\"T_2711d0b4_af9d_11e9_b0af_44a842ecf333row13_col8\" class=\"data row13 col8\" >0.981572</td> \n",
       "        <td id=\"T_2711d0b4_af9d_11e9_b0af_44a842ecf333row13_col9\" class=\"data row13 col9\" >0.0361279</td> \n",
       "        <td id=\"T_2711d0b4_af9d_11e9_b0af_44a842ecf333row13_col10\" class=\"data row13 col10\" >-0.0479371</td> \n",
       "        <td id=\"T_2711d0b4_af9d_11e9_b0af_44a842ecf333row13_col11\" class=\"data row13 col11\" >-0.0126306</td> \n",
       "        <td id=\"T_2711d0b4_af9d_11e9_b0af_44a842ecf333row13_col12\" class=\"data row13 col12\" >0.0227167</td> \n",
       "        <td id=\"T_2711d0b4_af9d_11e9_b0af_44a842ecf333row13_col13\" class=\"data row13 col13\" >1</td> \n",
       "        <td id=\"T_2711d0b4_af9d_11e9_b0af_44a842ecf333row13_col14\" class=\"data row13 col14\" >-0.0685234</td> \n",
       "    </tr>    <tr> \n",
       "        <th id=\"T_2711d0b4_af9d_11e9_b0af_44a842ecf333level0_row14\" class=\"row_heading level0 row14\" >log_texture_1</th> \n",
       "        <td id=\"T_2711d0b4_af9d_11e9_b0af_44a842ecf333row14_col0\" class=\"data row14 col0\" >0.085545</td> \n",
       "        <td id=\"T_2711d0b4_af9d_11e9_b0af_44a842ecf333row14_col1\" class=\"data row14 col1\" >0.031928</td> \n",
       "        <td id=\"T_2711d0b4_af9d_11e9_b0af_44a842ecf333row14_col2\" class=\"data row14 col2\" >0.139754</td> \n",
       "        <td id=\"T_2711d0b4_af9d_11e9_b0af_44a842ecf333row14_col3\" class=\"data row14 col3\" >0.129435</td> \n",
       "        <td id=\"T_2711d0b4_af9d_11e9_b0af_44a842ecf333row14_col4\" class=\"data row14 col4\" >0.937912</td> \n",
       "        <td id=\"T_2711d0b4_af9d_11e9_b0af_44a842ecf333row14_col5\" class=\"data row14 col5\" >0.122614</td> \n",
       "        <td id=\"T_2711d0b4_af9d_11e9_b0af_44a842ecf333row14_col6\" class=\"data row14 col6\" >0.0929627</td> \n",
       "        <td id=\"T_2711d0b4_af9d_11e9_b0af_44a842ecf333row14_col7\" class=\"data row14 col7\" >0.106583</td> \n",
       "        <td id=\"T_2711d0b4_af9d_11e9_b0af_44a842ecf333row14_col8\" class=\"data row14 col8\" >-0.0821457</td> \n",
       "        <td id=\"T_2711d0b4_af9d_11e9_b0af_44a842ecf333row14_col9\" class=\"data row14 col9\" >0.0688472</td> \n",
       "        <td id=\"T_2711d0b4_af9d_11e9_b0af_44a842ecf333row14_col10\" class=\"data row14 col10\" >-0.00720087</td> \n",
       "        <td id=\"T_2711d0b4_af9d_11e9_b0af_44a842ecf333row14_col11\" class=\"data row14 col11\" >-0.0155808</td> \n",
       "        <td id=\"T_2711d0b4_af9d_11e9_b0af_44a842ecf333row14_col12\" class=\"data row14 col12\" >0.0641864</td> \n",
       "        <td id=\"T_2711d0b4_af9d_11e9_b0af_44a842ecf333row14_col13\" class=\"data row14 col13\" >-0.0685234</td> \n",
       "        <td id=\"T_2711d0b4_af9d_11e9_b0af_44a842ecf333row14_col14\" class=\"data row14 col14\" >1</td> \n",
       "    </tr></tbody> \n",
       "</table> "
      ],
      "text/plain": [
       "<pandas.io.formats.style.Styler at 0x241eab6ef28>"
      ]
     },
     "execution_count": 62,
     "metadata": {},
     "output_type": "execute_result"
    }
   ],
   "source": [
    "corr = train_imputed_data_df[numeric_cols].corr()\n",
    "corr.style.background_gradient(cmap='coolwarm')"
   ]
  },
  {
   "cell_type": "markdown",
   "metadata": {},
   "source": [
    "Above correlation matrix shows that there are pairs of explanatory variables\n",
    "(perimeter_0,perimeter_1),\n",
    "(radius_1,radius_2),\n",
    "(radius_1,perimeter_1) and\n",
    "(perimeter_0,radius_2) which have correlation higher than 0.80. Out of these correlation of corresponding radius and perimeter look obvious (Still i dont take any assumptions , by considering the enlgish meaning of the column names)"
   ]
  },
  {
   "cell_type": "markdown",
   "metadata": {},
   "source": [
    "There are some variables for which, the distribution looks far from Normal distribution for example, diag_treat_diff,age,perimeter_2,texture_1. So I will try to see how do distribution of log transformations of this variables look,\n"
   ]
  },
  {
   "cell_type": "code",
   "execution_count": 63,
   "metadata": {},
   "outputs": [
    {
     "data": {
      "image/png": "[encoded data removed]",
      "text/plain": [
       "<matplotlib.figure.Figure at 0x241e90a3748>"
      ]
     },
     "metadata": {},
     "output_type": "display_data"
    },
    {
     "data": {
      "image/png": "[encoded data removed]",
      "text/plain": [
       "<matplotlib.figure.Figure at 0x241e9055ba8>"
      ]
     },
     "metadata": {},
     "output_type": "display_data"
    },
    {
     "data": {
      "image/png": "[encoded data removed]",
      "text/plain": [
       "<matplotlib.figure.Figure at 0x241e96f0320>"
      ]
     },
     "metadata": {},
     "output_type": "display_data"
    },
    {
     "data": {
      "image/png": "[encoded data removed]",
      "text/plain": [
       "<matplotlib.figure.Figure at 0x241ea94fc18>"
      ]
     },
     "metadata": {},
     "output_type": "display_data"
    },
    {
     "data": {
      "image/png": "[encoded data removed]",
      "text/plain": [
       "<matplotlib.figure.Figure at 0x241eaa3f710>"
      ]
     },
     "metadata": {},
     "output_type": "display_data"
    },
    {
     "data": {
      "image/png": "[encoded data removed]",
      "text/plain": [
       "<matplotlib.figure.Figure at 0x241e8d9f9e8>"
      ]
     },
     "metadata": {},
     "output_type": "display_data"
    },
    {
     "data": {
      "image/png": "[encoded data removed]",
      "text/plain": [
       "<matplotlib.figure.Figure at 0x241e988a438>"
      ]
     },
     "metadata": {},
     "output_type": "display_data"
    },
    {
     "data": {
      "image/png": "[encoded data removed]",
      "text/plain": [
       "<matplotlib.figure.Figure at 0x241e9479b00>"
      ]
     },
     "metadata": {},
     "output_type": "display_data"
    },
    {
     "data": {
      "image/png": "[encoded data removed]",
      "text/plain": [
       "<matplotlib.figure.Figure at 0x241ea98e3c8>"
      ]
     },
     "metadata": {},
     "output_type": "display_data"
    },
    {
     "data": {
      "image/png": "[encoded data removed]",
      "text/plain": [
       "<matplotlib.figure.Figure at 0x241e93ee9b0>"
      ]
     },
     "metadata": {},
     "output_type": "display_data"
    },
    {
     "data": {
      "image/png": "[encoded data removed]",
      "text/plain": [
       "<matplotlib.figure.Figure at 0x241e8f37e48>"
      ]
     },
     "metadata": {},
     "output_type": "display_data"
    },
    {
     "data": {
      "image/png": "[encoded data removed]",
      "text/plain": [
       "<matplotlib.figure.Figure at 0x241ea969b00>"
      ]
     },
     "metadata": {},
     "output_type": "display_data"
    },
    {
     "data": {
      "image/png": "[encoded data removed]",
      "text/plain": [
       "<matplotlib.figure.Figure at 0x241e95606d8>"
      ]
     },
     "metadata": {},
     "output_type": "display_data"
    },
    {
     "data": {
      "image/png": "[encoded data removed]",
      "text/plain": [
       "<matplotlib.figure.Figure at 0x241e94740b8>"
      ]
     },
     "metadata": {},
     "output_type": "display_data"
    },
    {
     "data": {
      "image/png": "[encoded data removed]",
      "text/plain": [
       "<matplotlib.figure.Figure at 0x241e96a6ba8>"
      ]
     },
     "metadata": {},
     "output_type": "display_data"
    },
    {
     "data": {
      "image/png": "[encoded data removed]",
      "text/plain": [
       "<matplotlib.figure.Figure at 0x241e94e7be0>"
      ]
     },
     "metadata": {},
     "output_type": "display_data"
    },
    {
     "data": {
      "image/png": "[encoded data removed]",
      "text/plain": [
       "<matplotlib.figure.Figure at 0x241e95a7518>"
      ]
     },
     "metadata": {},
     "output_type": "display_data"
    },
    {
     "data": {
      "image/png": "[encoded data removed]",
      "text/plain": [
       "<matplotlib.figure.Figure at 0x241e98c6550>"
      ]
     },
     "metadata": {},
     "output_type": "display_data"
    },
    {
     "data": {
      "image/png": "[encoded data removed]",
      "text/plain": [
       "<matplotlib.figure.Figure at 0x241e9417668>"
      ]
     },
     "metadata": {},
     "output_type": "display_data"
    }
   ],
   "source": [
    "train_imputed_data_df['log_diag_treat_diff']  = np.log(train_imputed_data_df['diag_treat_diff'])\n",
    "train_imputed_data_df['log_age']  = np.log(train_imputed_data_df['age'])\n",
    "train_imputed_data_df['log_perimeter_2']  = np.log(train_imputed_data_df['perimeter_2'])\n",
    "train_imputed_data_df['log_texture_1']  = np.log(train_imputed_data_df['texture_1'])\n",
    "    \n",
    "numeric_cols.extend(['log_diag_treat_diff','log_age','log_perimeter_2','log_texture_1'])\n",
    "plot_distributions_hist(train_imputed_data_df,numeric_cols)\n",
    "    \n",
    "    "
   ]
  },
  {
   "cell_type": "markdown",
   "metadata": {},
   "source": [
    "I see that, distribution of log_texture_2 and log_diag_treat_diff is more closer to gaussian distribution. So we select these two log transformations of columns. For rest distributions doesnt get closer to gaussian distribution."
   ]
  },
  {
   "cell_type": "markdown",
   "metadata": {},
   "source": [
    "Now i will calculate the variable importance of the explanatory variables using Variable Importance statistics of random forest.\n",
    "I will be using this list of column for building a random forest, ['radius_0','texture_0','perimeter_0','radius_1','log_texture_1','perimeter_1','radius_2','texture_2','perimeter_2','age','log_diag_treat_diff','cancer_type']\n",
    "\n",
    "Below is the method which calculates and plots the variable importance,\n"
   ]
  },
  {
   "cell_type": "code",
   "execution_count": 64,
   "metadata": {},
   "outputs": [],
   "source": [
    "from sklearn.ensemble import RandomForestClassifier\n",
    "## this method calculates variable importance based on random forest and plots the variable importance\n",
    "def calculatePlot_Variable_Importance(tr_x,tr_y):\n",
    "    regr = RandomForestClassifier(max_depth=2,random_state=0,n_estimators=100)\n",
    "    regr.fit(tr_x,tr_y.cancer_type.tolist())\n",
    "\n",
    "    importances = regr.feature_importances_\n",
    "    std = np.std([tree.feature_importances_ for tree in regr.estimators_],\n",
    "             axis=0)\n",
    "    indices = np.argsort(importances)[::-1]\n",
    "\n",
    "    # Print the feature ranking\n",
    "    print(\"Feature ranking:\")\n",
    "\n",
    "    for f in range(tr_x.shape[1]):\n",
    "        print(\"%d. feature %d (%f)\" % (f + 1, indices[f], importances[indices[f]]))\n",
    "\n",
    "    # Plot the feature importances of the forest\n",
    "    plt.figure()\n",
    "    plt.title(\"Feature importances\")\n",
    "    plt.bar(range(tr_x.shape[1]), importances[indices],color=\"r\", yerr=std[indices], align=\"center\")\n",
    "    plt.xticks(range(tr_x.shape[1]), indices)\n",
    "    plt.xlim([-1, tr_x.shape[1]])\n",
    "    plt.show()\n",
    "    "
   ]
  },
  {
   "cell_type": "markdown",
   "metadata": {},
   "source": [
    "Lets divide the train data into train and test_data (Ratio of Train:Test, 80:20) (The set on which i have to submit the results, i will call it final test data)"
   ]
  },
  {
   "cell_type": "code",
   "execution_count": 65,
   "metadata": {},
   "outputs": [
    {
     "name": "stdout",
     "output_type": "stream",
     "text": [
      "Feature ranking:\n",
      "1. feature 5 (0.257372)\n",
      "2. feature 2 (0.215598)\n",
      "3. feature 3 (0.205277)\n",
      "4. feature 7 (0.109896)\n",
      "5. feature 0 (0.101717)\n",
      "6. feature 6 (0.090807)\n",
      "7. feature 1 (0.009952)\n",
      "8. feature 4 (0.003972)\n",
      "9. feature 8 (0.002610)\n",
      "10. feature 9 (0.001527)\n",
      "11. feature 10 (0.001272)\n"
     ]
    },
    {
     "data": {
      "image/png": "[encoded data removed]",
      "text/plain": [
       "<matplotlib.figure.Figure at 0x241eaa672b0>"
      ]
     },
     "metadata": {},
     "output_type": "display_data"
    }
   ],
   "source": [
    "from sklearn.model_selection import train_test_split\n",
    "## this method divides the input dataframe into train and test data.\n",
    "def create_train_test_df(x_df,text_percentage):\n",
    "    x_df = x_df.loc[:, ~x_df.columns.str.contains('^Unnamed')]\n",
    "    train_X = x_df.drop(['cancer_type'],axis=1)\n",
    "    train_Y = x_df[['cancer_type']]  \n",
    "    X_train, X_test, y_train, y_test = train_test_split(train_X, train_Y, test_size=text_percentage, random_state=42)\n",
    "\n",
    "    return X_train,X_test,y_train,y_test\n",
    "\n",
    "selected_columns = ['radius_0','texture_0','perimeter_0','radius_1','log_texture_1','perimeter_1','radius_2','texture_2','perimeter_2','age','log_diag_treat_diff','cancer_type']\n",
    "    \n",
    "x_train, x_test, y_train, y_test =  create_train_test_df(train_imputed_data_df[selected_columns],0.20)\n",
    "## Calculate variable importance based on Variable importance statistics of random forest.\n",
    "calculatePlot_Variable_Importance(x_train,y_train)"
   ]
  },
  {
   "cell_type": "markdown",
   "metadata": {},
   "source": [
    "The Variable importance plot shows that we have 6 variables which are coming importance. These variables have indices (5,2,7,3,0,6). Running the above code section 5 times (I ran this manually for 5 times, Each time it creates the train and test set randomly), and it persists these varible indices as most important onces. Looking at the variable names for these indices\n"
   ]
  },
  {
   "cell_type": "code",
   "execution_count": 66,
   "metadata": {},
   "outputs": [
    {
     "name": "stdout",
     "output_type": "stream",
     "text": [
      "['radius_0', 'perimeter_0', 'radius_1', 'perimeter_1', 'radius_2', 'texture_2']\n"
     ]
    }
   ],
   "source": [
    "important_Variables = [list(x_train)[i] for i in [0,2,3,5,6,7]]\n",
    "print(important_Variables)\n",
    "important_Variables_rf = important_Variables\n",
    "important_Variables_rf.extend(['cancer_type'])"
   ]
  },
  {
   "cell_type": "markdown",
   "metadata": {},
   "source": [
    "I will be using these 6 most important variables, radius_0,perimeter_0,radius_1, perimeter_1, radius_2 and texture_2 in the creating the model.\n",
    "\n",
    "Fist I will create a Decision Tree and then calculate the models accuracy using a 10 cross validation."
   ]
  },
  {
   "cell_type": "code",
   "execution_count": 68,
   "metadata": {},
   "outputs": [
    {
     "name": "stdout",
     "output_type": "stream",
     "text": [
      "Accuracy of Logistic with 10 cross validaion score=====>>>>  [0.875 0.8   0.8   0.9   0.825 0.975 0.975 0.975 1.    1.   ]\n",
      "Mean and SD of Accuracy of Logistic with 10 cross validaion score=====>>>> Mean: 0.91 Standard Deviation:0.08\n",
      "\n",
      "\n",
      "\n",
      "\n",
      "\n",
      "Logistic Regression Confusion Matrix:: \n",
      "[[24  2]\n",
      " [ 5 49]]\n",
      "\n",
      "\n",
      "\n",
      "\n",
      "\n"
     ]
    },
    {
     "name": "stderr",
     "output_type": "stream",
     "text": [
      "C:\\Users\\Dell 3450\\Anaconda3\\lib\\site-packages\\sklearn\\utils\\validation.py:724: DataConversionWarning: A column-vector y was passed when a 1d array was expected. Please change the shape of y to (n_samples, ), for example using ravel().\n",
      "  y = column_or_1d(y, warn=True)\n"
     ]
    }
   ],
   "source": [
    "from sklearn.linear_model import LogisticRegression\n",
    "from sklearn.model_selection import cross_val_score\n",
    "from sklearn.metrics import confusion_matrix\n",
    "def applyLogisticRegressionClassification(x_df,imp_var):\n",
    "    \n",
    "    from sklearn.linear_model import LogisticRegression\n",
    "    \n",
    "    random_state = np.random.RandomState(0)\n",
    "    x_df1 = x_df[imp_var]\n",
    "    X = x_df1.drop(['cancer_type'],axis=1)\n",
    "    n_samples, n_features = X .shape\n",
    "#    X = X.reset_index()\n",
    "    \n",
    "    y = x_df.cancer_type\n",
    "#    y=y.reset_index()\n",
    "    y=y.astype('int')\n",
    "    \n",
    "    \n",
    "    clf = LogisticRegression(random_state=0, solver='lbfgs',multi_class='multinomial').fit(X, y)\n",
    "    LRScore = cross_val_score(clf, X, y, cv=10)\n",
    "    \n",
    "    clf.fit(X, y)\n",
    "    \n",
    "#    print(clf.density())\n",
    "    print(\"Accuracy of Logistic with 10 cross validaion score=====>>>> \",str(LRScore))\n",
    "    print(\"Mean and SD of Accuracy of Logistic with 10 cross validaion score=====>>>> \" + \"Mean: \" + str(round(np.mean(LRScore),2)) + \" Standard Deviation:\" +str(round(np.std(LRScore),2)))\n",
    "    \n",
    "   \n",
    "    clf.fit(x_tr_1, y_tr_1)\n",
    "    \n",
    "    \n",
    "    \n",
    "    \n",
    "    y_pred = list(clf.predict(x_te_1))\n",
    "#    y_pred = np.argmax(y_pred, axis=1)\n",
    "    # Plot non-normalized confusion matrix\n",
    "#    y_pred = (y_pred > 0.5)\n",
    "    \n",
    "    y_true = y_te_1.cancer_type.tolist()\n",
    "#    x2 = (x2 > 0.5)\n",
    "#    class_names = [0,1]\n",
    "    print(\"\\n\\n\\n\\n\")\n",
    "    print(\"Logistic Regression Confusion Matrix:: \")\n",
    "    print(confusion_matrix(y_true, y_pred))\n",
    "    print(\"\\n\\n\\n\\n\")\n",
    "    \n",
    "    \n",
    "    \n",
    "    \n",
    "    \n",
    "    return clf\n",
    "\n",
    "\n",
    "\n",
    "x_tr_1, x_te_1, y_tr_1, y_te_1 =  create_train_test_df(train_imputed_data_df[important_Variables_rf],0.20)\n",
    "y_tr_1=y_tr_1.astype('int')\n",
    "lr_model = applyLogisticRegressionClassification(train_imputed_data_df,important_Variables_rf)\n"
   ]
  },
  {
   "cell_type": "markdown",
   "metadata": {},
   "source": [
    "The result of Logistic regression shows that, using cross validation the accuracy is coming around 91%.\n",
    "Now lets"
   ]
  },
  {
   "cell_type": "code",
   "execution_count": 69,
   "metadata": {},
   "outputs": [
    {
     "name": "stdout",
     "output_type": "stream",
     "text": [
      "Accuracy of decision tree with 10 cross validaion score=====>>>>  [1. 1. 1. 1. 1. 1. 1. 1. 1. 1.]\n",
      "Mean and SD of Accuracy of decision tree with 10 cross validaion score=====>>>> Mean: 1.0 Standard Deviation:0.0\n",
      "Type of y_te_1 <class 'pandas.core.frame.DataFrame'>\n",
      "\n",
      "\n",
      "\n",
      "\n",
      "\n",
      "Decision Tree ,Confusion Matrix:: \n",
      "[[24  2]\n",
      " [ 7 47]]\n",
      "\n",
      "\n",
      "\n",
      "\n",
      "\n"
     ]
    }
   ],
   "source": [
    "from sklearn import tree\n",
    "from sklearn.externals.six import StringIO  \n",
    "from IPython.display import Image  \n",
    "from sklearn.tree import export_graphviz\n",
    "# import pydot\n",
    "from sklearn.tree import DecisionTreeClassifier\n",
    "# def apply_decision_tree_classification(x_df,imp_var):\n",
    "    \n",
    "#     # Fit Decision Tree model\n",
    "# #    depth_list = [2,5,6,7,9]\n",
    "# #    final_col_rmse_df = pd.DataFrame(columns = {'Tree_Max_Depth','RMSE'})\n",
    "# #\n",
    "#     x_df = x_df.loc[:, ~x_df.columns.str.contains('^Unnamed')]\n",
    "#     x_train = x_df[imp_var]\n",
    "#     y_train = x_df.cancer_type\n",
    "    \n",
    "#     y_train=y_train.astype('int')\n",
    "#     clf = DecisionTreeClassifier(random_state=0)\n",
    "#     DTScore = cross_val_score(clf, x_train, y_train, cv=10)\n",
    "    \n",
    "#     imp_var.extend(['cancer_type'])\n",
    "#     x_train, x_test, y_train, y_test =  create_train_test_df(x_df[imp_var],0.20)\n",
    "#     ## Calculate variable importance based on Variable importance statistics of random forest.\n",
    "   \n",
    "#     y_train=y_train.astype('int')\n",
    "\n",
    "#     clf = clf.fit(x_train,y_train)\n",
    "    \n",
    "#     print(\"Accuracy of decision tree with 10 cross validaion score=====>>>> \",str(DTScore))\n",
    "#     print(\"Mean and SD of Accuracy of decision tree with 10 cross validaion score=====>>>> \" + \"Mean: \" + str(round(np.mean(DTScore),2)) + \" Standard Deviation:\" +str(round(np.std(DTScore),2)))\n",
    "    \n",
    "#     tree.export_graphviz(clf, out_file='tree.dot') #produces dot file\n",
    "    \n",
    "\n",
    "    \n",
    "def apply_decision_tree_classification(x_df,imp_var):\n",
    "    \n",
    "    # Fit Decision Tree model\n",
    "#    depth_list = [2,5,6,7,9]\n",
    "#    final_col_rmse_df = pd.DataFrame(columns = {'Tree_Max_Depth','RMSE'})\n",
    "#\n",
    "    x_df = x_df.loc[:, ~x_df.columns.str.contains('^Unnamed')]\n",
    "    x_train = x_df[imp_var]\n",
    "    y_train = x_df.cancer_type\n",
    "    \n",
    "    y_train=y_train.astype('int')\n",
    "    clf = DecisionTreeClassifier(random_state=0)\n",
    "    DTScore = cross_val_score(clf, x_train, y_train, cv=10)\n",
    "    print(\"Accuracy of decision tree with 10 cross validaion score=====>>>> \",str(DTScore))\n",
    "    print(\"Mean and SD of Accuracy of decision tree with 10 cross validaion score=====>>>> \" + \"Mean: \" + str(round(np.mean(DTScore),2)) + \" Standard Deviation:\" +str(round(np.std(DTScore),2)))\n",
    "    \n",
    "    \n",
    "#     x_tr_1, x_te_1, y_tr_1, y_te_1 =  create_train_test_df(x_df[imp_var],0.20)\n",
    "#     y_tr_1=y_tr_1.astype('int')\n",
    "    clf.fit(x_tr_1, y_tr_1)\n",
    "    \n",
    "    tree.export_graphviz(clf, out_file='tree.dot') #produces dot file\n",
    "    \n",
    "    y_pred = list(clf.predict(x_te_1))\n",
    "#    y_pred = np.argmax(y_pred, axis=1)\n",
    "    # Plot non-normalized confusion matrix\n",
    "#    y_pred = (y_pred > 0.5)\n",
    "    print(\"Type of y_te_1\" ,type(y_te_1))\n",
    "    y_true = y_te_1.cancer_type.tolist()\n",
    "#    x2 = (x2 > 0.5)\n",
    "#    class_names = [0,1]\n",
    "    print(\"\\n\\n\\n\\n\")\n",
    "    print(\"Decision Tree ,Confusion Matrix:: \")\n",
    "    print(confusion_matrix(y_true, y_pred))\n",
    "    print(\"\\n\\n\\n\\n\")\n",
    "    \n",
    "    return clf\n",
    "   # dotfile = StringIO('tree.dot')\n",
    "  #  tree.export_graphviz(clf, out_file=dotfile)\n",
    "  #  pydot.graph_from_dot_data(dotfile.getvalue()).write_png(\"dtree2.png\")\n",
    "###########################3 Start the Modelling with only important variables #############33\n",
    "dt_model = apply_decision_tree_classification(train_imputed_data_df,important_Variables)\n",
    "    "
   ]
  },
  {
   "cell_type": "markdown",
   "metadata": {},
   "source": [
    "So I see that, accuracy of the decision tree is coming around 90% on average during the 10-cross validation runs. Lets visulaize this decision tree model. The plotting of the tree.dot file is giving some error, so i commented the plotting code, and instead used a browser based treevisualizer http://www.webgraphviz.com/ by using the genrated tree.dit file. [Will show the tree by opening the pdf file manually]"
   ]
  },
  {
   "cell_type": "markdown",
   "metadata": {},
   "source": [
    "Now, I will create a random forest model using the important variables and check its accuracy using 10-fold cross validation and see if it improves the accuracy.\n",
    "\n"
   ]
  },
  {
   "cell_type": "code",
   "execution_count": 71,
   "metadata": {},
   "outputs": [
    {
     "name": "stdout",
     "output_type": "stream",
     "text": [
      "Accuracy of Random Forest with 10 cross validaion score=====>>>>  [0.825      0.85       0.825      0.925      0.9        0.95\n",
      " 0.975      1.         1.         0.97435897]\n",
      "Mean and SD of Accuracy of Random Forest with 10 cross validaion score=====>>>> Mean: 0.92 Standard Deviation:0.07\n",
      "\n",
      "\n",
      "\n",
      "\n",
      "\n",
      "Confusion Matrix:: \n",
      "[[24  2]\n",
      " [ 4 50]]\n",
      "\n",
      "\n",
      "\n",
      "\n",
      "\n"
     ]
    },
    {
     "name": "stderr",
     "output_type": "stream",
     "text": [
      "C:\\Users\\Dell 3450\\Anaconda3\\lib\\site-packages\\ipykernel_launcher.py:53: DataConversionWarning: A column-vector y was passed when a 1d array was expected. Please change the shape of y to (n_samples,), for example using ravel().\n"
     ]
    }
   ],
   "source": [
    "# def applyRandomForestClassification(x_df,imp_var):\n",
    "    \n",
    "\n",
    "#     # Add noisy features\n",
    "#     random_state = np.random.RandomState(0)\n",
    "#     x_df1 = x_df[imp_var]\n",
    "#     X = x_df1.drop(['cancer_type'],axis=1)\n",
    "#     n_samples, n_features = X .shape\n",
    "# #    X = X.reset_index()\n",
    "    \n",
    "#     y = x_df.cancer_type\n",
    "# #    y=y.reset_index()\n",
    "#     y=y.astype('int')\n",
    "    \n",
    "    \n",
    "#     clf = RandomForestClassifier(n_estimators=100, max_depth=2,random_state=0)\n",
    "    \n",
    "#     RFScore = cross_val_score(clf, X, y, cv=10)\n",
    "    \n",
    "#     clf.fit(X, y)\n",
    "    \n",
    "#     print(\"Accuracy of Random Forest with 10 cross validaion score=====>>>> \",str(RFScore))\n",
    "#     print(\"Mean and SD of Accuracy of Random Forest with 10 cross validaion score=====>>>> \" + \"Mean: \" + str(round(np.mean(RFScore),2)) + \" Standard Deviation:\" +str(round(np.std(RFScore),2)))\n",
    "    \n",
    "\n",
    "    \n",
    "def applyRandomForestClassification(x_df,imp_var):\n",
    "    \n",
    "\n",
    "    # Add noisy features\n",
    "    random_state = np.random.RandomState(0)\n",
    "    x_df1 = x_df[imp_var]\n",
    "    X = x_df1.drop(['cancer_type'],axis=1)\n",
    "    n_samples, n_features = X .shape\n",
    "#    X = X.reset_index()\n",
    "    \n",
    "    y = x_df.cancer_type\n",
    "#    y=y.reset_index()\n",
    "    y=y.astype('int')\n",
    "    \n",
    "    \n",
    "    clf = RandomForestClassifier(n_estimators=100, max_depth=2,random_state=0)\n",
    "    \n",
    "    RFScore = cross_val_score(clf, X, y, cv=10)\n",
    "    \n",
    "    \n",
    "    \n",
    "    print(\"Accuracy of Random Forest with 10 cross validaion score=====>>>> \",str(RFScore))\n",
    "    print(\"Mean and SD of Accuracy of Random Forest with 10 cross validaion score=====>>>> \" + \"Mean: \" + str(round(np.mean(RFScore),2)) + \" Standard Deviation:\" +str(round(np.std(RFScore),2)))\n",
    "    \n",
    "#     x_tr_1, x_te_1, y_tr_1, y_te_1 =  create_train_test_df(x_df[important_Variables_rf],0.20)\n",
    "#     y_tr_1=y_tr_1.astype('int')\n",
    "    clf.fit(x_tr_1, y_tr_1)\n",
    "    \n",
    "    y_pred = list(clf.predict(x_te_1))\n",
    "#    y_pred = np.argmax(y_pred, axis=1)\n",
    "    # Plot non-normalized confusion matrix\n",
    "#    y_pred = (y_pred > 0.5)\n",
    "    \n",
    "    y_true = y_te_1.cancer_type.tolist()\n",
    "#    x2 = (x2 > 0.5)\n",
    "#    class_names = [0,1]\n",
    "    print(\"\\n\\n\\n\\n\")\n",
    "    print(\"Confusion Matrix:: \")\n",
    "    print(confusion_matrix(y_true, y_pred))\n",
    "    print(\"\\n\\n\\n\\n\")\n",
    "    \n",
    "    return clf\n",
    "    \n",
    "    \n",
    "important_Variables_rf = important_Variables\n",
    "important_Variables_rf.extend(['cancer_type'])\n",
    "    \n",
    "rf_model = applyRandomForestClassification(train_imputed_data_df,important_Variables_rf)\n",
    "    "
   ]
  },
  {
   "cell_type": "markdown",
   "metadata": {},
   "source": [
    "Now, the accuracy increase to on an average 92% in the runs of cross validation.\n",
    "\n",
    "Now, Lets try the modelling using Multi Layer Peceptron (Neural network) and find the average accuracy using K-fold cross validation.\n"
   ]
  },
  {
   "cell_type": "code",
   "execution_count": 73,
   "metadata": {},
   "outputs": [
    {
     "name": "stdout",
     "output_type": "stream",
     "text": [
      "Accuracy of MLP with 10 cross validaion score=====>>>>  [0.375      0.375      0.375      0.375      0.375      0.375\n",
      " 0.375      0.375      0.35897436 0.35897436]\n",
      "Mean and SD of Accuracy of MLP with 10 cross validaion score=====>>>> Mean: 0.37 Standard Deviation:0.01\n",
      "\n",
      "\n",
      "\n",
      "\n",
      "\n",
      "MLP Confusion Matrix:: \n",
      "[[26  0]\n",
      " [54  0]]\n",
      "\n",
      "\n",
      "\n",
      "\n",
      "\n"
     ]
    },
    {
     "name": "stderr",
     "output_type": "stream",
     "text": [
      "C:\\Users\\Dell 3450\\Anaconda3\\lib\\site-packages\\sklearn\\neural_network\\multilayer_perceptron.py:921: DataConversionWarning: A column-vector y was passed when a 1d array was expected. Please change the shape of y to (n_samples, ), for example using ravel().\n",
      "  y = column_or_1d(y, warn=True)\n"
     ]
    }
   ],
   "source": [
    "from sklearn.neural_network import MLPClassifier\n",
    "\n",
    "# def applyNeuralNetClassification(x_df,imp_var):\n",
    "#     random_state = np.random.RandomState(0)\n",
    "#     x_df1 = x_df[imp_var]\n",
    "#     X = x_df1.drop(['cancer_type'],axis=1)\n",
    "#     n_samples, n_features = X .shape\n",
    "# #    X = X.reset_index()\n",
    "    \n",
    "#     y = x_df.cancer_type\n",
    "# #    y=y.reset_index()\n",
    "#     y=y.astype('int')\n",
    "    \n",
    "    \n",
    "#     clf = MLPClassifier(solver='lbfgs', alpha=1e-5,hidden_layer_sizes=(15,), random_state=1)\n",
    "\n",
    "#     MLPScore = cross_val_score(clf, X, y, cv=10)\n",
    "    \n",
    "#     clf.fit(X, y)\n",
    "    \n",
    "#     print(\"Accuracy of MLP with 10 cross validaion score=====>>>> \",str(MLPScore))\n",
    "#     print(\"Mean and SD of Accuracy of MLP with 10 cross validaion score=====>>>> \" + \"Mean: \" + str(round(np.mean(MLPScore),2)) + \" Standard Deviation:\" +str(round(np.std(MLPScore),2)))\n",
    "\n",
    "    \n",
    "def applyNeuralNetClassification(x_df,imp_var):\n",
    "    random_state = np.random.RandomState(0)\n",
    "    x_df1 = x_df[imp_var]\n",
    "    X = x_df1.drop(['cancer_type'],axis=1)\n",
    "    n_samples, n_features = X .shape\n",
    "#    X = X.reset_index()\n",
    "    \n",
    "    y = x_df.cancer_type\n",
    "#    y=y.reset_index()\n",
    "    y=y.astype('int')\n",
    "    \n",
    "    \n",
    "    clf = MLPClassifier(solver='lbfgs', alpha=1e-5,hidden_layer_sizes=(15,), random_state=1)\n",
    "\n",
    "    MLPScore = cross_val_score(clf, X, y, cv=10)\n",
    "    \n",
    "    clf.fit(X, y)\n",
    "    \n",
    "    print(\"Accuracy of MLP with 10 cross validaion score=====>>>> \",str(MLPScore))\n",
    "    print(\"Mean and SD of Accuracy of MLP with 10 cross validaion score=====>>>> \" + \"Mean: \" + str(round(np.mean(MLPScore),2)) + \" Standard Deviation:\" +str(round(np.std(MLPScore),2)))\n",
    "    \n",
    "#     x_tr_1, x_te_1, y_tr_1, y_te_1 =  create_train_test_df(x_df[important_Variables_rf],0.20)\n",
    "#     y_tr_1=y_tr_1.astype('int')\n",
    "    clf.fit(x_tr_1, y_tr_1)\n",
    "    \n",
    "    y_pred = list(clf.predict(x_te_1))\n",
    "#    y_pred = np.argmax(y_pred, axis=1)\n",
    "    # Plot non-normalized confusion matrix\n",
    "#    y_pred = (y_pred > 0.5)\n",
    "    \n",
    "    y_true = y_te_1.cancer_type.tolist()\n",
    "#    x2 = (x2 > 0.5)\n",
    "#    class_names = [0,1]\n",
    "    print(\"\\n\\n\\n\\n\")\n",
    "    print(\"MLP Confusion Matrix:: \")\n",
    "    print(confusion_matrix(y_true, y_pred))\n",
    "    print(\"\\n\\n\\n\\n\")\n",
    "    \n",
    "    return clf\n",
    "    \n",
    "mlp_model = applyNeuralNetClassification(train_imputed_data_df,important_Variables_rf)\n",
    "    "
   ]
  },
  {
   "cell_type": "markdown",
   "metadata": {},
   "source": [
    "I see that now neuralnetwork is giving an average accuracy of about 91%,which is equivalent/less than to that of random forest.So it seems\n",
    "that increasing the complexity of model more is not helping to improve the accuracy of the predictions."
   ]
  },
  {
   "cell_type": "markdown",
   "metadata": {},
   "source": []
  },
  {
   "cell_type": "markdown",
   "metadata": {},
   "source": [
    "Now I will apply the similar missing data imputation strategy on final test data, so that, we have data ready for final prediction,\n"
   ]
  },
  {
   "cell_type": "code",
   "execution_count": 74,
   "metadata": {},
   "outputs": [
    {
     "name": "stdout",
     "output_type": "stream",
     "text": [
      "[[  21.2617532    19.24727676   92.54858614   29.74012654   14.17490285\n",
      "   129.32451722   40.32394366 1556.64788732]\n",
      " [  21.16269527   19.79104263   91.91337258   26.68868023   14.02167869\n",
      "   130.10289303   40.29        471.45      ]]\n",
      "[0 1 1 0 0 0 1 0 0 0 1 0 1 0 1 0 0 1 1 1 0 1 0 1 0 1 1 1 1 0 1 1 0 1 1 0 0\n",
      " 0 1 1 0 0 0 1 1 1 1 1 0 0 1 1 1 1 0 0 0 1 0 0 1 0 1 0 1 1 1 0 1 1 1 0 1 1\n",
      " 1 1 1 1 0 1 1 0 1 0 0 1 0 0 1 0 1 1 1 0 1 1 0 0 0 0 1 0 0 1 0 1 1 1 0 1 1\n",
      " 1 0 0 1 1 0 1 0 1 1 0 1 1 0 0 0 1 1 0 0 0 1 0 1 1 1 0 1 1 1 1 1 0 1 0 1 1\n",
      " 1 1 1 1 1 0 1 1 0 1 1 1 1 1 1 0 1 0 0 1 1 0 0]\n"
     ]
    },
    {
     "name": "stderr",
     "output_type": "stream",
     "text": [
      "C:\\Users\\Dell 3450\\Anaconda3\\lib\\site-packages\\pandas\\core\\generic.py:3643: SettingWithCopyWarning: \n",
      "A value is trying to be set on a copy of a slice from a DataFrame.\n",
      "Try using .loc[row_indexer,col_indexer] = value instead\n",
      "\n",
      "See the caveats in the documentation: http://pandas.pydata.org/pandas-docs/stable/indexing.html#indexing-view-versus-copy\n",
      "  self[name] = value\n",
      "C:\\Users\\Dell 3450\\Anaconda3\\lib\\site-packages\\ipykernel_launcher.py:25: SettingWithCopyWarning: \n",
      "A value is trying to be set on a copy of a slice from a DataFrame.\n",
      "Try using .loc[row_indexer,col_indexer] = value instead\n",
      "\n",
      "See the caveats in the documentation: http://pandas.pydata.org/pandas-docs/stable/indexing.html#indexing-view-versus-copy\n",
      "C:\\Users\\Dell 3450\\Anaconda3\\lib\\site-packages\\ipykernel_launcher.py:26: SettingWithCopyWarning: \n",
      "A value is trying to be set on a copy of a slice from a DataFrame.\n",
      "Try using .loc[row_indexer,col_indexer] = value instead\n",
      "\n",
      "See the caveats in the documentation: http://pandas.pydata.org/pandas-docs/stable/indexing.html#indexing-view-versus-copy\n",
      "C:\\Users\\Dell 3450\\Anaconda3\\lib\\site-packages\\ipykernel_launcher.py:27: SettingWithCopyWarning: \n",
      "A value is trying to be set on a copy of a slice from a DataFrame.\n",
      "Try using .loc[row_indexer,col_indexer] = value instead\n",
      "\n",
      "See the caveats in the documentation: http://pandas.pydata.org/pandas-docs/stable/indexing.html#indexing-view-versus-copy\n",
      "C:\\Users\\Dell 3450\\Anaconda3\\lib\\site-packages\\ipykernel_launcher.py:28: SettingWithCopyWarning: \n",
      "A value is trying to be set on a copy of a slice from a DataFrame.\n",
      "Try using .loc[row_indexer,col_indexer] = value instead\n",
      "\n",
      "See the caveats in the documentation: http://pandas.pydata.org/pandas-docs/stable/indexing.html#indexing-view-versus-copy\n",
      "C:\\Users\\Dell 3450\\Anaconda3\\lib\\site-packages\\ipykernel_launcher.py:37: SettingWithCopyWarning: \n",
      "A value is trying to be set on a copy of a slice from a DataFrame.\n",
      "Try using .loc[row_indexer,col_indexer] = value instead\n",
      "\n",
      "See the caveats in the documentation: http://pandas.pydata.org/pandas-docs/stable/indexing.html#indexing-view-versus-copy\n",
      "C:\\Users\\Dell 3450\\Anaconda3\\lib\\site-packages\\ipykernel_launcher.py:38: SettingWithCopyWarning: \n",
      "A value is trying to be set on a copy of a slice from a DataFrame.\n",
      "Try using .loc[row_indexer,col_indexer] = value instead\n",
      "\n",
      "See the caveats in the documentation: http://pandas.pydata.org/pandas-docs/stable/indexing.html#indexing-view-versus-copy\n",
      "C:\\Users\\Dell 3450\\Anaconda3\\lib\\site-packages\\ipykernel_launcher.py:39: SettingWithCopyWarning: \n",
      "A value is trying to be set on a copy of a slice from a DataFrame.\n",
      "Try using .loc[row_indexer,col_indexer] = value instead\n",
      "\n",
      "See the caveats in the documentation: http://pandas.pydata.org/pandas-docs/stable/indexing.html#indexing-view-versus-copy\n",
      "C:\\Users\\Dell 3450\\Anaconda3\\lib\\site-packages\\ipykernel_launcher.py:40: SettingWithCopyWarning: \n",
      "A value is trying to be set on a copy of a slice from a DataFrame.\n",
      "Try using .loc[row_indexer,col_indexer] = value instead\n",
      "\n",
      "See the caveats in the documentation: http://pandas.pydata.org/pandas-docs/stable/indexing.html#indexing-view-versus-copy\n",
      "C:\\Users\\Dell 3450\\Anaconda3\\lib\\site-packages\\ipykernel_launcher.py:48: SettingWithCopyWarning: \n",
      "A value is trying to be set on a copy of a slice from a DataFrame.\n",
      "Try using .loc[row_indexer,col_indexer] = value instead\n",
      "\n",
      "See the caveats in the documentation: http://pandas.pydata.org/pandas-docs/stable/indexing.html#indexing-view-versus-copy\n",
      "C:\\Users\\Dell 3450\\Anaconda3\\lib\\site-packages\\ipykernel_launcher.py:49: SettingWithCopyWarning: \n",
      "A value is trying to be set on a copy of a slice from a DataFrame.\n",
      "Try using .loc[row_indexer,col_indexer] = value instead\n",
      "\n",
      "See the caveats in the documentation: http://pandas.pydata.org/pandas-docs/stable/indexing.html#indexing-view-versus-copy\n",
      "C:\\Users\\Dell 3450\\Anaconda3\\lib\\site-packages\\ipykernel_launcher.py:50: SettingWithCopyWarning: \n",
      "A value is trying to be set on a copy of a slice from a DataFrame.\n",
      "Try using .loc[row_indexer,col_indexer] = value instead\n",
      "\n",
      "See the caveats in the documentation: http://pandas.pydata.org/pandas-docs/stable/indexing.html#indexing-view-versus-copy\n",
      "C:\\Users\\Dell 3450\\Anaconda3\\lib\\site-packages\\ipykernel_launcher.py:51: SettingWithCopyWarning: \n",
      "A value is trying to be set on a copy of a slice from a DataFrame.\n",
      "Try using .loc[row_indexer,col_indexer] = value instead\n",
      "\n",
      "See the caveats in the documentation: http://pandas.pydata.org/pandas-docs/stable/indexing.html#indexing-view-versus-copy\n",
      "C:\\Users\\Dell 3450\\Anaconda3\\lib\\site-packages\\ipykernel_launcher.py:52: SettingWithCopyWarning: \n",
      "A value is trying to be set on a copy of a slice from a DataFrame.\n",
      "Try using .loc[row_indexer,col_indexer] = value instead\n",
      "\n",
      "See the caveats in the documentation: http://pandas.pydata.org/pandas-docs/stable/indexing.html#indexing-view-versus-copy\n",
      "C:\\Users\\Dell 3450\\Anaconda3\\lib\\site-packages\\ipykernel_launcher.py:53: SettingWithCopyWarning: \n",
      "A value is trying to be set on a copy of a slice from a DataFrame.\n",
      "Try using .loc[row_indexer,col_indexer] = value instead\n",
      "\n",
      "See the caveats in the documentation: http://pandas.pydata.org/pandas-docs/stable/indexing.html#indexing-view-versus-copy\n"
     ]
    }
   ],
   "source": [
    "def final_test_impute_missing_Values_train(x_df):\n",
    "    train_data_rad_1NoNAN_df = x_df[x_df.radius_1.notnull()]\n",
    "    \n",
    "    mean_radius_1_ct_0 = train_data_rad_1NoNAN_df.loc[train_data_rad_1NoNAN_df.Cluster == 0,].radius_1.mean()\n",
    "    mean_radius_1_ct_1 = train_data_rad_1NoNAN_df.loc[train_data_rad_1NoNAN_df.Cluster == 1,].radius_1.mean()\n",
    "    \n",
    "    train_data_per1NoNAN_df = x_df[x_df.perimeter_1.notnull()]\n",
    "    \n",
    "    mean_periM_1_ct_0 = train_data_per1NoNAN_df.loc[train_data_per1NoNAN_df.Cluster == 0,].perimeter_1.mean()\n",
    "    mean_periM_1_ct_1 = train_data_per1NoNAN_df.loc[train_data_per1NoNAN_df.Cluster == 1,].perimeter_1.mean()\n",
    "\n",
    "    train_data_tx2Noxx_df = x_df.loc[x_df.texture_2 != 'xx',]\n",
    "    \n",
    "    train_data_tx2Noxx_df.texture_2 = train_data_tx2Noxx_df.texture_2.apply(float)\n",
    "#    train_data_tx2Noxx_df.texture_2 = train_data_tx2Noxx_df.texture_2.apply(float)\n",
    "    \n",
    "    mean_text_2_ct_0 = train_data_tx2Noxx_df.loc[train_data_tx2Noxx_df.Cluster == 0,].texture_2.mean()\n",
    "    mean_text_2_ct_1 = train_data_tx2Noxx_df.loc[train_data_tx2Noxx_df.Cluster == 1,].texture_2.mean()\n",
    "\n",
    "    \n",
    "    train_rad_1null_df = x_df[x_df.radius_1.isnull()]\n",
    "#    train_rad_1null_df.loc[train_rad_1null_df.Cluster == 0,'radius_1'] = mean_radius_1_ct_0\n",
    "#    train_rad_1null_df.loc[train_rad_1null_df.Cluster == 1,'radius_1'] = mean_radius_1_ct_1\n",
    "#    train_rad_1null_df.to_csv(\"train_rad_1null_df.csv\")\n",
    "    train_rad_1null_df['radius_1'] = np.where(train_rad_1null_df.Cluster == 0, mean_radius_1_ct_0, train_rad_1null_df.radius_1)\n",
    "    train_rad_1null_df['radius_1'] = np.where(train_rad_1null_df.Cluster == 1, mean_radius_1_ct_1, train_rad_1null_df.radius_1)\n",
    "    train_rad_1null_df['texture_2'] = np.where(train_rad_1null_df.Cluster == 0, mean_text_2_ct_0, train_rad_1null_df.texture_2)\n",
    "    train_rad_1null_df['texture_2'] = np.where(train_rad_1null_df.Cluster == 1, mean_text_2_ct_1, train_rad_1null_df.texture_2)\n",
    "   \n",
    "    \n",
    "    train_rad_1null_df.to_csv(\"train_rad_1null_df.csv\")\n",
    "    \n",
    "    train_peri_1null_df = x_df[x_df.perimeter_1.isnull()]\n",
    "#    train_rad_1null_df.loc[train_rad_1null_df.Cluster == 0,'radius_1'] = mean_radius_1_ct_0\n",
    "#    train_rad_1null_df.loc[train_rad_1null_df.Cluster == 1,'radius_1'] = mean_radius_1_ct_1\n",
    "#    train_rad_1null_df.to_csv(\"train_rad_1null_df.csv\")\n",
    "    train_peri_1null_df['perimeter_1'] = np.where(train_peri_1null_df.Cluster == 0, mean_periM_1_ct_0, train_peri_1null_df.perimeter_1)\n",
    "    train_peri_1null_df['perimeter_1'] = np.where(train_peri_1null_df.Cluster == 1, mean_periM_1_ct_1, train_peri_1null_df.perimeter_1)\n",
    "    train_peri_1null_df['texture_2'] = np.where(train_peri_1null_df.Cluster == 0, mean_text_2_ct_0, train_peri_1null_df.texture_2)\n",
    "    train_peri_1null_df['texture_2'] = np.where(train_peri_1null_df.Cluster == 1, mean_text_2_ct_1, train_peri_1null_df.texture_2)\n",
    "   \n",
    "    \n",
    "    \n",
    "    train_peri_1null_df.to_csv(\"train_peri_1null_df.csv\")\n",
    "    \n",
    "    train_data_tx2xx_df = x_df.loc[(x_df.texture_2 == 'xx') & (x_df.perimeter_1.notnull() & (x_df.radius_1.notnull())),]\n",
    "    \n",
    "    train_data_tx2xx_df['texture_2'] = np.where(train_data_tx2xx_df.Cluster == 0, mean_text_2_ct_0, train_data_tx2xx_df.texture_2)\n",
    "    train_data_tx2xx_df['texture_2'] = np.where(train_data_tx2xx_df.Cluster == 1, mean_text_2_ct_1, train_data_tx2xx_df.texture_2)\n",
    "    train_data_tx2xx_df['radius_1'] = np.where(train_data_tx2xx_df.Cluster == 0, mean_radius_1_ct_0, train_data_tx2xx_df.radius_1)\n",
    "    train_data_tx2xx_df['radius_1'] = np.where(train_data_tx2xx_df.Cluster == 1, mean_radius_1_ct_1, train_data_tx2xx_df.radius_1)\n",
    "    train_data_tx2xx_df['perimeter_1'] = np.where(train_data_tx2xx_df.Cluster == 0, mean_periM_1_ct_0, train_data_tx2xx_df.perimeter_1)\n",
    "    train_data_tx2xx_df['perimeter_1'] = np.where(train_data_tx2xx_df.Cluster == 1, mean_periM_1_ct_1, train_data_tx2xx_df.perimeter_1)\n",
    "    \n",
    "    \n",
    "    train_data_tx2xx_df.to_csv(\"train_data_tx2xx_df.csv\")\n",
    "    \n",
    "    replaced_values_df = pd.DataFrame(columns = list(final_test_data_df))\n",
    "    replaced_values_df = replaced_values_df.append(train_rad_1null_df)\n",
    "    replaced_values_df = replaced_values_df.append(train_peri_1null_df)\n",
    "    replaced_values_df = replaced_values_df.append(train_data_tx2xx_df)\n",
    "    \n",
    "    x_df_rest = final_test_data_df[final_test_data_df.radius_1.notnull()]\n",
    "    x_df_rest = x_df_rest[x_df_rest.perimeter_1.notnull()]\n",
    "    x_df_rest = x_df_rest.loc[x_df_rest.texture_2 != 'xx',]\n",
    "    \n",
    "    x_return_df = pd.DataFrame(columns = list(final_test_data_df))\n",
    "    x_return_df = x_return_df.append(x_df_rest)\n",
    "    x_return_df = x_return_df.append(replaced_values_df)\n",
    "    x_return_df.drop_duplicates(inplace=True)\n",
    "#    x_return_df = x_return_df.append(train_data_tx2xx_df)\n",
    "    return x_return_df\n",
    "\n",
    "\n",
    "final_test_data_allNum_df = final_test_data_df[['radius_0','texture_0','perimeter_0','texture_1','radius_2','perimeter_2','age','diag_treat_diff']]\n",
    "#    final_test_allNum_df = final_test_data_allNum_df.loc[final_test_data_allNum_df.texture_2 != 'xx',]\n",
    "    \n",
    "    \n",
    "kmeans = KMeans(n_clusters=2)\n",
    "kmeans.fit(final_test_data_allNum_df)\n",
    "centroids = kmeans.cluster_centers_\n",
    "print(centroids)\n",
    "print(kmeans.labels_)\n",
    "final_test_data_df = final_test_data_df.assign(Cluster = kmeans.labels_)\n",
    "    \n",
    "final_test_imputed_data_df = final_test_impute_missing_Values_train(final_test_data_df)\n",
    "final_test_imputed_data_df.to_csv(\"final_test_imputed_data_df_1.csv\")\n",
    "    \n"
   ]
  },
  {
   "cell_type": "code",
   "execution_count": 75,
   "metadata": {},
   "outputs": [],
   "source": [
    "final_test_tr = final_test_imputed_data_df[list(x_tr_1)]\n",
    "final_pred_rf = list(rf_model.predict(final_test_tr))\n",
    "pd.DataFrame(data ={'cancer_type':final_pred_rf}).to_csv(\"final_prediction_rf.csv\")\n",
    "    \n",
    "final_pred_dt = list(dt_model.predict(final_test_tr))\n",
    "pd.DataFrame(data ={'cancer_type':final_pred_dt}).to_csv(\"final_prediction_dt.csv\")\n",
    "    \n",
    "final_pred_mlp = list(mlp_model.predict(final_test_tr))\n",
    "pd.DataFrame(data ={'cancer_type':final_pred_mlp}).to_csv(\"final_prediction_mlp.csv\")\n",
    "    \n",
    "final_pred_lr = list(lr_model.predict(final_test_tr))\n",
    "pd.DataFrame(data ={'cancer_type':final_pred_lr}).to_csv(\"final_prediction_lr.csv\")\n",
    "    "
   ]
  },
  {
   "cell_type": "markdown",
   "metadata": {},
   "source": [
    "3.) Lets do the regression between radius_1 and perimeter 2,"
   ]
  },
  {
   "cell_type": "code",
   "execution_count": 76,
   "metadata": {},
   "outputs": [
    {
     "name": "stdout",
     "output_type": "stream",
     "text": [
      "[0.6508155516043087, 0.6612928051293654, 0.6478702717163457]\n"
     ]
    },
    {
     "data": {
      "image/png": "[encoded data removed]",
      "text/plain": [
       "<matplotlib.figure.Figure at 0x241e90e7400>"
      ]
     },
     "metadata": {},
     "output_type": "display_data"
    },
    {
     "data": {
      "image/png": "[encoded data removed]",
      "text/plain": [
       "<matplotlib.figure.Figure at 0x241e93fd668>"
      ]
     },
     "metadata": {},
     "output_type": "display_data"
    }
   ],
   "source": [
    "from sklearn.linear_model import LinearRegression\n",
    "from sklearn.model_selection import KFold\n",
    "## Root mean square Error.\n",
    "from sklearn.metrics import mean_squared_error\n",
    "from math import sqrt\n",
    "\n",
    "    \n",
    "X_reg = x_tr_1[['perimeter_1']]\n",
    "Y_reg = x_tr_1[['radius_2']]\n",
    "    \n",
    "reg = LinearRegression().fit(X_reg,Y_reg )\n",
    "reg.score(X_reg, Y_reg)\n",
    "    \n",
    "scores = []\n",
    "kfold = KFold(n_splits=3, shuffle=True, random_state=42)\n",
    "for i, (train, test) in enumerate(kfold.split(X_reg, Y_reg)):\n",
    "    reg.fit(X_reg.iloc[train,:], Y_reg.iloc[train,:])\n",
    "    score = reg.score(X_reg.iloc[test,:], Y_reg.iloc[test,:])\n",
    "    scores.append(score)\n",
    "print(scores)\n",
    "\n",
    "y_pred = reg.predict(x_te_1[['perimeter_1']])\n",
    "y_act = x_te_1.radius_1.tolist()\n",
    "\n",
    "y_pred_arr = [item[0] for item in y_pred]\n",
    "resid_e_arr = list(np.array(y_pred_arr) - np.array(y_act))\n",
    "# plot.scatter(xTrain, yTrain, color = 'red')\n",
    "plt.scatter(x_te_1.perimeter_1,resid_e_arr,  color = 'blue')\n",
    "# plot.title('Salary vs Experience (Training set)')\n",
    "plt.xlabel('Perimeter_1')\n",
    "plt.ylabel('Residual Error')\n",
    "plt.show()\n",
    "\n",
    "\n",
    "plt.scatter(y_pred,resid_e_arr,  color = 'blue')\n",
    "# plot.title('Salary vs Experience (Training set)')\n",
    "plt.xlabel('Fitted Radius_2')\n",
    "plt.ylabel('Residual Error')\n",
    "plt.show()\n",
    "\n",
    "\n",
    "############### Do a transformation of Perimeter_1############################3 \n",
    "\n",
    "\n",
    "\n",
    "\n"
   ]
  },
  {
   "cell_type": "markdown",
   "metadata": {},
   "source": [
    "On an average the residual doesnt show an increasing or decreasing pattern, So I think we can do without transforming explanatory variables.Wee see that the variance of residual error increases with the X (Perimeter_1). So I should try some transformations of the response variable radius_2 (Log,Square, Root etc) and see the residual plot."
   ]
  },
  {
   "cell_type": "code",
   "execution_count": 78,
   "metadata": {},
   "outputs": [
    {
     "name": "stdout",
     "output_type": "stream",
     "text": [
      "[0.5938561532503748, 0.6410778685767711, 0.6404116860197852]\n"
     ]
    },
    {
     "name": "stderr",
     "output_type": "stream",
     "text": [
      "C:\\Users\\Dell 3450\\Anaconda3\\lib\\site-packages\\ipykernel_launcher.py:4: SettingWithCopyWarning: \n",
      "A value is trying to be set on a copy of a slice from a DataFrame.\n",
      "Try using .loc[row_indexer,col_indexer] = value instead\n",
      "\n",
      "See the caveats in the documentation: http://pandas.pydata.org/pandas-docs/stable/indexing.html#indexing-view-versus-copy\n",
      "  after removing the cwd from sys.path.\n"
     ]
    },
    {
     "data": {
      "image/png": "[encoded data removed]",
      "text/plain": [
       "<matplotlib.figure.Figure at 0x241e48f2438>"
      ]
     },
     "metadata": {},
     "output_type": "display_data"
    },
    {
     "data": {
      "image/png": "[encoded data removed]",
      "text/plain": [
       "<matplotlib.figure.Figure at 0x241e9068278>"
      ]
     },
     "metadata": {},
     "output_type": "display_data"
    }
   ],
   "source": [
    "X_reg = x_tr_1[['perimeter_1']]\n",
    "\n",
    "Y_reg = x_tr_1[['radius_2']]\n",
    "Y_reg['Log_radius_2'] = np.log(Y_reg.radius_2)\n",
    "Y_log_reg = Y_reg[['Log_radius_2']]\n",
    "    \n",
    "reg = LinearRegression().fit(X_reg,Y_log_reg )\n",
    "reg.score(X_reg, Y_log_reg)\n",
    "    \n",
    "scores = []\n",
    "kfold = KFold(n_splits=3, shuffle=True, random_state=42)\n",
    "for i, (train, test) in enumerate(kfold.split(X_reg, Y_log_reg)):\n",
    "    reg.fit(X_reg.iloc[train,:], Y_log_reg.iloc[train,:])\n",
    "    score = reg.score(X_reg.iloc[test,:], Y_log_reg.iloc[test,:])\n",
    "    scores.append(score)\n",
    "print(scores)\n",
    "\n",
    "x_te_1['perimeter_1'] = x_te_1.perimeter_1\n",
    "y_pred = reg.predict(x_te_1[['perimeter_1']])\n",
    "y_act = x_te_1.radius_1.tolist()\n",
    "\n",
    "y_pred_arr = [np.exp(item[0]) for item in y_pred]\n",
    "resid_e_arr = list(np.array(y_pred_arr) - np.array(y_act))\n",
    "# plot.scatter(xTrain, yTrain, color = 'red')\n",
    "plt.scatter(x_te_1.perimeter_1,resid_e_arr,  color = 'blue')\n",
    "# plot.title('Salary vs Experience (Training set)')\n",
    "plt.xlabel('Log Perimeter_1')\n",
    "plt.ylabel('Residual Error')\n",
    "plt.show()\n",
    "\n",
    "\n",
    "\n",
    "plt.scatter(y_pred_arr,resid_e_arr,  color = 'blue')\n",
    "# plot.title('Salary vs Experience (Training set)')\n",
    "plt.xlabel('Fitted Radius_2')\n",
    "plt.ylabel('Residual Error')\n",
    "plt.show()"
   ]
  },
  {
   "cell_type": "markdown",
   "metadata": {},
   "source": [
    "Still we do not see, a constant variance, so next i will try a sqrt transformation of response variable."
   ]
  },
  {
   "cell_type": "code",
   "execution_count": 79,
   "metadata": {},
   "outputs": [
    {
     "name": "stdout",
     "output_type": "stream",
     "text": [
      "[0.6289266138795612, 0.6543407389608016, 0.6488241785469481]\n"
     ]
    },
    {
     "name": "stderr",
     "output_type": "stream",
     "text": [
      "C:\\Users\\Dell 3450\\Anaconda3\\lib\\site-packages\\ipykernel_launcher.py:4: SettingWithCopyWarning: \n",
      "A value is trying to be set on a copy of a slice from a DataFrame.\n",
      "Try using .loc[row_indexer,col_indexer] = value instead\n",
      "\n",
      "See the caveats in the documentation: http://pandas.pydata.org/pandas-docs/stable/indexing.html#indexing-view-versus-copy\n",
      "  after removing the cwd from sys.path.\n"
     ]
    },
    {
     "data": {
      "image/png": "[encoded data removed]",
      "text/plain": [
       "<matplotlib.figure.Figure at 0x241e8f91c18>"
      ]
     },
     "metadata": {},
     "output_type": "display_data"
    }
   ],
   "source": [
    "X_reg = x_tr_1[['perimeter_1']]\n",
    "\n",
    "Y_reg = x_tr_1[['radius_2']]\n",
    "Y_reg['sqr_radius_2'] = np.sqrt(Y_reg.radius_2)\n",
    "Y_sqr_reg = Y_reg[['sqr_radius_2']]\n",
    "    \n",
    "reg = LinearRegression().fit(X_reg,Y_sqr_reg )\n",
    "reg.score(X_reg, Y_sqr_reg)\n",
    "    \n",
    "scores = []\n",
    "kfold = KFold(n_splits=3, shuffle=True, random_state=42)\n",
    "for i, (train, test) in enumerate(kfold.split(X_reg, Y_sqr_reg)):\n",
    "    reg.fit(X_reg.iloc[train,:], Y_sqr_reg.iloc[train,:])\n",
    "    score = reg.score(X_reg.iloc[test,:], Y_sqr_reg.iloc[test,:])\n",
    "    scores.append(score)\n",
    "print(scores)\n",
    "\n",
    "x_te_1['perimeter_1'] = x_te_1.perimeter_1\n",
    "y_pred = reg.predict(x_te_1[['perimeter_1']])\n",
    "y_act = x_te_1.radius_1.tolist()\n",
    "\n",
    "y_pred_arr = [pow(item[0],2 ) for item in y_pred]\n",
    "resid_e_arr = list(np.array(y_pred_arr) - np.array(y_act))\n",
    "# plot.scatter(xTrain, yTrain, color = 'red')\n",
    "# plt.scatter(x_te_1.perimeter_1,resid_e_arr,  color = 'blue')\n",
    "# # plot.title('Salary vs Experience (Training set)')\n",
    "# plt.xlabel('Log Perimeter_1')\n",
    "# plt.ylabel('Residual Error')\n",
    "# plt.show()\n",
    "\n",
    "\n",
    "\n",
    "plt.scatter(y_pred_arr,resid_e_arr,  color = 'blue')\n",
    "# plot.title('Salary vs Experience (Training set)')\n",
    "plt.xlabel('Fitted Radius_2')\n",
    "plt.ylabel('Residual Error')\n",
    "plt.show()"
   ]
  },
  {
   "cell_type": "markdown",
   "metadata": {},
   "source": [
    "This transformation also does not look reducing the variance of residuals vs fitted response variable. As a next step I would like to to try some more transformations square of radius_2 for example, (Which I am not able to do right now, due to lack of time). "
   ]
  },
  {
   "cell_type": "code",
   "execution_count": 80,
   "metadata": {},
   "outputs": [],
   "source": [
    "from sklearn.metrics import mean_squared_error\n",
    "from math import sqrt\n",
    "\n",
    "rmse_val =sum(map(lambda x:x*x,resid_e_arr))"
   ]
  },
  {
   "cell_type": "markdown",
   "metadata": {},
   "source": [
    "Value of RMSE :"
   ]
  },
  {
   "cell_type": "code",
   "execution_count": 29,
   "metadata": {},
   "outputs": [
    {
     "data": {
      "text/plain": [
       "658.4998043776361"
      ]
     },
     "execution_count": 29,
     "metadata": {},
     "output_type": "execute_result"
    }
   ],
   "source": [
    "rmse_val"
   ]
  },
  {
   "cell_type": "code",
   "execution_count": null,
   "metadata": {},
   "outputs": [],
   "source": []
  },
  {
   "cell_type": "code",
   "execution_count": null,
   "metadata": {},
   "outputs": [],
   "source": []
  }
 ],
 "metadata": {
  "kernelspec": {
   "display_name": "Python 3",
   "language": "python",
   "name": "python3"
  },
  "language_info": {
   "codemirror_mode": {
    "name": "ipython",
    "version": 3
   },
   "file_extension": ".py",
   "mimetype": "text/x-python",
   "name": "python",
   "nbconvert_exporter": "python",
   "pygments_lexer": "ipython3",
   "version": "3.6.4"
  }
 },
 "nbformat": 4,
 "nbformat_minor": 2
}
